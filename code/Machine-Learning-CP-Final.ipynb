{
 "cells": [
  {
   "cell_type": "markdown",
   "metadata": {},
   "source": [
    "## Psychiatric Disorders Classification Using Machine Learning"
   ]
  },
  {
   "cell_type": "markdown",
   "metadata": {},
   "source": [
    "**Importing Libraries**"
   ]
  },
  {
   "cell_type": "code",
   "execution_count": 2,
   "metadata": {},
   "outputs": [],
   "source": [
    "import pandas as pd\n",
    "import numpy as np\n",
    "import matplotlib\n",
    "import matplotlib.pyplot as plt\n",
    "import matplotlib.ticker as mticker\n",
    "#import mne\n",
    "import matplotlib.style\n",
    "import os\n",
    "import pickle\n",
    "from functools import partial\n",
    "from math import ceil\n",
    "from sklearn.preprocessing import OrdinalEncoder, StandardScaler\n",
    "from sklearn.model_selection import train_test_split, GridSearchCV\n",
    "from sklearn.metrics import (classification_report)\n",
    "from sklearn.linear_model import LogisticRegressionCV, LogisticRegression\n",
    "from sklearn.svm import SVC\n",
    "from sklearn.ensemble import RandomForestClassifier\n",
    "from copy import deepcopy\n",
    "from sklearn.metrics import confusion_matrix\n",
    "from sklearn.metrics import plot_confusion_matrix\n",
    "import seaborn as sns"
   ]
  },
  {
   "cell_type": "code",
   "execution_count": 3,
   "metadata": {},
   "outputs": [],
   "source": [
    "df = pd.read_csv('./data/final_dataset_all_no_coh_train.csv')"
   ]
  },
  {
   "cell_type": "code",
   "execution_count": 4,
   "metadata": {},
   "outputs": [
    {
     "data": {
      "text/html": [
       "<div>\n",
       "<style scoped>\n",
       "    .dataframe tbody tr th:only-of-type {\n",
       "        vertical-align: middle;\n",
       "    }\n",
       "\n",
       "    .dataframe tbody tr th {\n",
       "        vertical-align: top;\n",
       "    }\n",
       "\n",
       "    .dataframe thead th {\n",
       "        text-align: right;\n",
       "    }\n",
       "</style>\n",
       "<table border=\"1\" class=\"dataframe\">\n",
       "  <thead>\n",
       "    <tr style=\"text-align: right;\">\n",
       "      <th></th>\n",
       "      <th>delta.FP1</th>\n",
       "      <th>delta.FP2</th>\n",
       "      <th>delta.F7</th>\n",
       "      <th>delta.F3</th>\n",
       "      <th>delta.Fz</th>\n",
       "      <th>delta.F4</th>\n",
       "      <th>delta.F8</th>\n",
       "      <th>delta.T3</th>\n",
       "      <th>delta.C3</th>\n",
       "      <th>delta.Cz</th>\n",
       "      <th>...</th>\n",
       "      <th>gamma.C4</th>\n",
       "      <th>gamma.T4</th>\n",
       "      <th>gamma.T5</th>\n",
       "      <th>gamma.P3</th>\n",
       "      <th>gamma.Pz</th>\n",
       "      <th>gamma.P4</th>\n",
       "      <th>gamma.T6</th>\n",
       "      <th>gamma.O1</th>\n",
       "      <th>gamma.O2</th>\n",
       "      <th>main.disorder</th>\n",
       "    </tr>\n",
       "  </thead>\n",
       "  <tbody>\n",
       "    <tr>\n",
       "      <th>0</th>\n",
       "      <td>13.425118</td>\n",
       "      <td>11.002916</td>\n",
       "      <td>11.942516</td>\n",
       "      <td>15.272216</td>\n",
       "      <td>14.151570</td>\n",
       "      <td>12.456034</td>\n",
       "      <td>8.436832</td>\n",
       "      <td>9.975238</td>\n",
       "      <td>14.834740</td>\n",
       "      <td>10.950564</td>\n",
       "      <td>...</td>\n",
       "      <td>0.931967</td>\n",
       "      <td>0.437117</td>\n",
       "      <td>0.930843</td>\n",
       "      <td>1.234874</td>\n",
       "      <td>1.373268</td>\n",
       "      <td>1.411808</td>\n",
       "      <td>1.140695</td>\n",
       "      <td>1.118041</td>\n",
       "      <td>3.162143</td>\n",
       "      <td>Addictive disorder</td>\n",
       "    </tr>\n",
       "    <tr>\n",
       "      <th>1</th>\n",
       "      <td>29.941780</td>\n",
       "      <td>27.544684</td>\n",
       "      <td>17.150159</td>\n",
       "      <td>23.608960</td>\n",
       "      <td>27.087811</td>\n",
       "      <td>13.541237</td>\n",
       "      <td>16.523963</td>\n",
       "      <td>12.775574</td>\n",
       "      <td>21.686306</td>\n",
       "      <td>18.367666</td>\n",
       "      <td>...</td>\n",
       "      <td>1.691152</td>\n",
       "      <td>1.505663</td>\n",
       "      <td>1.133891</td>\n",
       "      <td>1.661768</td>\n",
       "      <td>1.403429</td>\n",
       "      <td>1.349457</td>\n",
       "      <td>1.270525</td>\n",
       "      <td>1.408471</td>\n",
       "      <td>1.454618</td>\n",
       "      <td>Addictive disorder</td>\n",
       "    </tr>\n",
       "    <tr>\n",
       "      <th>2</th>\n",
       "      <td>21.496226</td>\n",
       "      <td>21.846832</td>\n",
       "      <td>17.364316</td>\n",
       "      <td>13.833701</td>\n",
       "      <td>14.100954</td>\n",
       "      <td>13.100939</td>\n",
       "      <td>14.613650</td>\n",
       "      <td>8.063191</td>\n",
       "      <td>11.015078</td>\n",
       "      <td>11.639560</td>\n",
       "      <td>...</td>\n",
       "      <td>1.122776</td>\n",
       "      <td>2.128138</td>\n",
       "      <td>1.648217</td>\n",
       "      <td>1.147666</td>\n",
       "      <td>1.049152</td>\n",
       "      <td>1.131654</td>\n",
       "      <td>1.415856</td>\n",
       "      <td>1.391048</td>\n",
       "      <td>1.527403</td>\n",
       "      <td>Addictive disorder</td>\n",
       "    </tr>\n",
       "    <tr>\n",
       "      <th>3</th>\n",
       "      <td>37.775667</td>\n",
       "      <td>33.607679</td>\n",
       "      <td>21.865556</td>\n",
       "      <td>21.771413</td>\n",
       "      <td>22.854536</td>\n",
       "      <td>21.456377</td>\n",
       "      <td>15.969042</td>\n",
       "      <td>9.434306</td>\n",
       "      <td>15.244523</td>\n",
       "      <td>17.041979</td>\n",
       "      <td>...</td>\n",
       "      <td>2.320845</td>\n",
       "      <td>3.562820</td>\n",
       "      <td>1.441662</td>\n",
       "      <td>1.018804</td>\n",
       "      <td>1.274009</td>\n",
       "      <td>2.350806</td>\n",
       "      <td>2.307730</td>\n",
       "      <td>2.129431</td>\n",
       "      <td>3.766860</td>\n",
       "      <td>Addictive disorder</td>\n",
       "    </tr>\n",
       "    <tr>\n",
       "      <th>4</th>\n",
       "      <td>13.482096</td>\n",
       "      <td>14.095855</td>\n",
       "      <td>12.854630</td>\n",
       "      <td>11.727480</td>\n",
       "      <td>13.128924</td>\n",
       "      <td>11.627138</td>\n",
       "      <td>14.978119</td>\n",
       "      <td>6.899770</td>\n",
       "      <td>9.751346</td>\n",
       "      <td>14.141171</td>\n",
       "      <td>...</td>\n",
       "      <td>2.780522</td>\n",
       "      <td>5.419482</td>\n",
       "      <td>2.587215</td>\n",
       "      <td>1.694676</td>\n",
       "      <td>1.748525</td>\n",
       "      <td>1.527331</td>\n",
       "      <td>1.664579</td>\n",
       "      <td>1.266546</td>\n",
       "      <td>1.133410</td>\n",
       "      <td>Addictive disorder</td>\n",
       "    </tr>\n",
       "  </tbody>\n",
       "</table>\n",
       "<p>5 rows × 115 columns</p>\n",
       "</div>"
      ],
      "text/plain": [
       "   delta.FP1  delta.FP2   delta.F7   delta.F3   delta.Fz   delta.F4  \\\n",
       "0  13.425118  11.002916  11.942516  15.272216  14.151570  12.456034   \n",
       "1  29.941780  27.544684  17.150159  23.608960  27.087811  13.541237   \n",
       "2  21.496226  21.846832  17.364316  13.833701  14.100954  13.100939   \n",
       "3  37.775667  33.607679  21.865556  21.771413  22.854536  21.456377   \n",
       "4  13.482096  14.095855  12.854630  11.727480  13.128924  11.627138   \n",
       "\n",
       "    delta.F8   delta.T3   delta.C3   delta.Cz  ...  gamma.C4  gamma.T4  \\\n",
       "0   8.436832   9.975238  14.834740  10.950564  ...  0.931967  0.437117   \n",
       "1  16.523963  12.775574  21.686306  18.367666  ...  1.691152  1.505663   \n",
       "2  14.613650   8.063191  11.015078  11.639560  ...  1.122776  2.128138   \n",
       "3  15.969042   9.434306  15.244523  17.041979  ...  2.320845  3.562820   \n",
       "4  14.978119   6.899770   9.751346  14.141171  ...  2.780522  5.419482   \n",
       "\n",
       "   gamma.T5  gamma.P3  gamma.Pz  gamma.P4  gamma.T6  gamma.O1  gamma.O2  \\\n",
       "0  0.930843  1.234874  1.373268  1.411808  1.140695  1.118041  3.162143   \n",
       "1  1.133891  1.661768  1.403429  1.349457  1.270525  1.408471  1.454618   \n",
       "2  1.648217  1.147666  1.049152  1.131654  1.415856  1.391048  1.527403   \n",
       "3  1.441662  1.018804  1.274009  2.350806  2.307730  2.129431  3.766860   \n",
       "4  2.587215  1.694676  1.748525  1.527331  1.664579  1.266546  1.133410   \n",
       "\n",
       "        main.disorder  \n",
       "0  Addictive disorder  \n",
       "1  Addictive disorder  \n",
       "2  Addictive disorder  \n",
       "3  Addictive disorder  \n",
       "4  Addictive disorder  \n",
       "\n",
       "[5 rows x 115 columns]"
      ]
     },
     "execution_count": 4,
     "metadata": {},
     "output_type": "execute_result"
    }
   ],
   "source": [
    "df.head()"
   ]
  },
  {
   "cell_type": "markdown",
   "metadata": {},
   "source": [
    "**Pre-processing for machine learning**\n",
    "\n",
    "    - Drop unique columns (separation column, no. and eeg.date)\n",
    "    - Encode categorical variable sex and targets (main.disorder and specific.disorder)\n",
    "    - Save targets and drop them from feature set\n",
    "    - Perform logarithmic transformation of numeric columns, except education and IQ)\n",
    "    - Split data into train and test subset\n",
    "    - Scale train and test data"
   ]
  },
  {
   "cell_type": "code",
   "execution_count": 5,
   "metadata": {},
   "outputs": [],
   "source": [
    "# Prepare for encoding\n",
    "cat_vars = ['main.disorder']\n",
    "X = df.copy(deep=True)\n",
    "\n",
    "# columns for log transformation\n",
    "\n",
    "logtrans_cols = X.columns\n",
    "\n",
    "#Encode categorical variables (target columns and sex)\n",
    "enc = OrdinalEncoder()\n",
    "X[cat_vars] = enc.fit_transform(X[cat_vars])\n",
    "\n",
    "# Save targets\n",
    "md_target = X['main.disorder']\n",
    "\n",
    "# Drop targets\n",
    "X.drop(['main.disorder'], axis=1, inplace=True)\n",
    "\n",
    "# Perform logarithmic transformation on all data\n",
    "logtrans_cols = X.columns\n",
    "X[logtrans_cols] = np.log(X[logtrans_cols])\n",
    "\n",
    "# save features' names\n",
    "feature_names = X.columns\n",
    "y =md_target\n",
    "# main.disorder\n",
    "#Xmd_train, Xmd_test, Ymd_train, Ymd_test = train_test_split(X, md_target, test_size=0.33, random_state=999)\n",
    "\n",
    "# Scale features\n",
    "# main.disorder\n",
    "from sklearn.preprocessing import MinMaxScaler\n",
    "\n",
    "scaler = MinMaxScaler()\n",
    "Xmd_train = pd.DataFrame(scaler.fit_transform(X),columns=feature_names)"
   ]
  },
  {
   "cell_type": "code",
   "execution_count": 6,
   "metadata": {},
   "outputs": [],
   "source": [
    "test_df = pd.read_csv('./data/final_dataset_all_no_coh_test.csv')"
   ]
  },
  {
   "cell_type": "code",
   "execution_count": 7,
   "metadata": {},
   "outputs": [],
   "source": [
    "cat_vars = ['main.disorder']\n",
    "X_test = test_df.copy(deep=True)\n",
    "\n",
    "# columns for log transformation\n",
    "\n",
    "logtrans_cols = X.columns\n",
    "# Encode categorical variables (target columns and sex)\n",
    "enc = OrdinalEncoder()\n",
    "test_df[cat_vars] = enc.fit_transform(test_df[cat_vars])\n",
    "\n",
    "# Save targets\n",
    "md_target = test_df['main.disorder']\n",
    "\n",
    "# Drop targets\n",
    "test_df.drop(['main.disorder'], axis=1, inplace=True)\n",
    "\n",
    "# save features' names\n",
    "feature_names = test_df.columns\n",
    "y_test =md_target\n",
    "X_test = test_df"
   ]
  },
  {
   "cell_type": "markdown",
   "metadata": {},
   "source": [
    "**Cross-validation**\n",
    "\n",
    "**Algorithms to consider:**\n",
    "\n",
    "- Logistic Regression \n",
    "- GaussianNB\n",
    "- SVM\n",
    "- KNeighborsClassifier\n",
    "- Random Forest\n",
    "- DecisionTreeClassifier\n",
    "- SGDClassifier\n",
    "- Perceptron"
   ]
  },
  {
   "cell_type": "code",
   "execution_count": 8,
   "metadata": {},
   "outputs": [
    {
     "name": "stdout",
     "output_type": "stream",
     "text": [
      "[array([0.62116992, 0.58774373, 0.67318436, 0.72905028, 0.70670391]), array([0.40111421, 0.39554318, 0.50558659, 0.53072626, 0.54469274]), array([0.32311978, 0.32869081, 0.37430168, 0.4273743 , 0.41899441]), array([0.23119777, 0.25348189, 0.29050279, 0.24860335, 0.23184358]), array([0.48467967, 0.46518106, 0.54189944, 0.50837989, 0.52234637]), array([0.45125348, 0.41225627, 0.48044693, 0.45251397, 0.49441341]), array([0.20891365, 0.26462396, 0.32402235, 0.36312849, 0.42178771]), array([0.2729805 , 0.17270195, 0.17039106, 0.20391061, 0.29050279]), array([0.54317549, 0.50417827, 0.59497207, 0.6424581 , 0.63687151])]\n"
     ]
    }
   ],
   "source": [
    "from sklearn.ensemble import RandomForestClassifier, GradientBoostingClassifier\n",
    "from sklearn.svm import SVC\n",
    "from sklearn.linear_model import LogisticRegression\n",
    "from sklearn.naive_bayes import GaussianNB\n",
    "from sklearn.neighbors import KNeighborsClassifier\n",
    "from sklearn.model_selection import cross_val_score\n",
    "from sklearn.tree import DecisionTreeClassifier\n",
    "from sklearn.linear_model import SGDClassifier,Perceptron\n",
    "\n",
    "rf = RandomForestClassifier()\n",
    "sv = SVC()\n",
    "lr = LogisticRegression(max_iter=1000)\n",
    "gn = GaussianNB()\n",
    "knn = KNeighborsClassifier()\n",
    "dtree = DecisionTreeClassifier()\n",
    "sgd = SGDClassifier()\n",
    "per = Perceptron()\n",
    "grad = GradientBoostingClassifier()\n",
    "#enet = LogisticRegression(penalty='elasticnet', solver='saga')\n",
    "\n",
    "models = [rf, sv, lr, gn, knn, dtree, sgd,per,grad]\n",
    "scores = []\n",
    "\n",
    "for model in models:\n",
    "    scores.append(cross_val_score(model, Xmd_train, y, cv=5,\n",
    "                                  scoring='accuracy', ))\n",
    "    \n",
    "print(scores)"
   ]
  },
  {
   "cell_type": "code",
   "execution_count": 9,
   "metadata": {},
   "outputs": [
    {
     "name": "stdout",
     "output_type": "stream",
     "text": [
      "[0.66357044 0.47553259 0.3744962  0.25112588 0.50449728 0.45817681\n",
      " 0.31649523 0.22209738 0.58433109]\n"
     ]
    }
   ],
   "source": [
    "print(np.mean(scores,axis=1))"
   ]
  },
  {
   "cell_type": "code",
   "execution_count": 10,
   "metadata": {},
   "outputs": [
    {
     "data": {
      "text/plain": [
       "GridSearchCV(cv=5, estimator=RandomForestClassifier(),\n",
       "             param_grid={'criterion': ['entropy'], 'max_depth': [4, 7, 8],\n",
       "                         'max_features': ['sqrt', 'log2'],\n",
       "                         'n_estimators': [100, 200]},\n",
       "             scoring='accuracy')"
      ]
     },
     "execution_count": 10,
     "metadata": {},
     "output_type": "execute_result"
    }
   ],
   "source": [
    "from sklearn.model_selection import GridSearchCV\n",
    "\n",
    "param_grid = {\n",
    "   'n_estimators': [100, 200],\n",
    "   'max_features': ['sqrt', 'log2'],\n",
    "   'max_depth' : [4,7,8],\n",
    "   'criterion' :['entropy']\n",
    "}\n",
    "\n",
    "estimator = RandomForestClassifier()\n",
    "\n",
    "grid = GridSearchCV(estimator=estimator,\n",
    "                          param_grid=param_grid,\n",
    "                          cv = 5,\n",
    "                          refit=True,\n",
    "                          scoring='accuracy')\n",
    "\n",
    "grid.fit(Xmd_train, y)"
   ]
  },
  {
   "cell_type": "code",
   "execution_count": 11,
   "metadata": {},
   "outputs": [
    {
     "data": {
      "text/plain": [
       "{'criterion': 'entropy',\n",
       " 'max_depth': 8,\n",
       " 'max_features': 'sqrt',\n",
       " 'n_estimators': 200}"
      ]
     },
     "execution_count": 11,
     "metadata": {},
     "output_type": "execute_result"
    }
   ],
   "source": [
    "grid.best_params_"
   ]
  },
  {
   "cell_type": "code",
   "execution_count": 12,
   "metadata": {},
   "outputs": [],
   "source": [
    "from sklearn.metrics import accuracy_score, classification_report\n",
    "\n",
    "Xmd_test = pd.DataFrame(scaler.fit_transform(X_test),columns=feature_names)\n",
    "yhat = grid.predict(Xmd_test )\n"
   ]
  },
  {
   "cell_type": "code",
   "execution_count": 13,
   "metadata": {},
   "outputs": [
    {
     "data": {
      "text/plain": [
       "0.11428571428571428"
      ]
     },
     "execution_count": 13,
     "metadata": {},
     "output_type": "execute_result"
    }
   ],
   "source": [
    "accuracy_score(y_test, yhat)"
   ]
  },
  {
   "cell_type": "code",
   "execution_count": 14,
   "metadata": {},
   "outputs": [
    {
     "name": "stdout",
     "output_type": "stream",
     "text": [
      "              precision    recall  f1-score   support\n",
      "\n",
      "         0.0       0.13      0.80      0.23        10\n",
      "         1.0       0.00      0.00      0.00        10\n",
      "         2.0       0.00      0.00      0.00        10\n",
      "         3.0       0.00      0.00      0.00        10\n",
      "         4.0       0.00      0.00      0.00        10\n",
      "         5.0       0.00      0.00      0.00        10\n",
      "         6.0       0.00      0.00      0.00        10\n",
      "\n",
      "    accuracy                           0.11        70\n",
      "   macro avg       0.02      0.11      0.03        70\n",
      "weighted avg       0.02      0.11      0.03        70\n",
      "\n"
     ]
    },
    {
     "name": "stderr",
     "output_type": "stream",
     "text": [
      "/opt/conda/lib/python3.8/site-packages/sklearn/metrics/_classification.py:1221: UndefinedMetricWarning: Precision and F-score are ill-defined and being set to 0.0 in labels with no predicted samples. Use `zero_division` parameter to control this behavior.\n",
      "  _warn_prf(average, modifier, msg_start, len(result))\n"
     ]
    }
   ],
   "source": [
    "print(classification_report(y_test, yhat))"
   ]
  },
  {
   "cell_type": "code",
   "execution_count": 15,
   "metadata": {},
   "outputs": [
    {
     "name": "stdout",
     "output_type": "stream",
     "text": [
      "[[ 8  0  0  1  0  0  1]\n",
      " [ 9  0  0  1  0  0  0]\n",
      " [ 8  0  0  1  0  0  1]\n",
      " [10  0  0  0  0  0  0]\n",
      " [ 8  0  0  1  0  0  1]\n",
      " [ 9  0  0  0  0  0  1]\n",
      " [ 9  0  0  0  1  0  0]]\n"
     ]
    },
    {
     "data": {
      "image/png": "[encoded data removed]",
      "text/plain": [
       "<Figure size 432x288 with 2 Axes>"
      ]
     },
     "metadata": {
      "needs_background": "light"
     },
     "output_type": "display_data"
    }
   ],
   "source": [
    "print(confusion_matrix(y_test, yhat))\n",
    "color = 'white'\n",
    "mat = confusion_matrix(y_test, yhat)\n",
    "\n",
    "sns.heatmap(mat.T, annot=True, fmt=\"d\")\n",
    "plt.xlabel('true')\n",
    "plt.ylabel('predicted')\n",
    "plt.show()"
   ]
  },
  {
   "cell_type": "markdown",
   "metadata": {},
   "source": [
    "**RandomForestClassifier**"
   ]
  },
  {
   "cell_type": "code",
   "execution_count": 16,
   "metadata": {},
   "outputs": [
    {
     "data": {
      "text/plain": [
       "GridSearchCV(cv=5, estimator=KNeighborsClassifier(),\n",
       "             param_grid={'algorithm': ['ball_tree'], 'leaf_size': [30, 50],\n",
       "                         'n_neighbors': [5, 8],\n",
       "                         'weights': ['uniform', 'distance']},\n",
       "             scoring='accuracy')"
      ]
     },
     "execution_count": 16,
     "metadata": {},
     "output_type": "execute_result"
    }
   ],
   "source": [
    "from sklearn.model_selection import GridSearchCV\n",
    "\n",
    "param_grid = {\n",
    "   'n_neighbors': [5,8],\n",
    "   'weights': ['uniform', 'distance'],\n",
    "   'algorithm' : ['ball_tree'],\n",
    "   'leaf_size' :[30, 50]\n",
    "}\n",
    "\n",
    "estimator = KNeighborsClassifier()\n",
    "\n",
    "grid = GridSearchCV(estimator=estimator,\n",
    "                          param_grid=param_grid,\n",
    "                          cv = 5,\n",
    "                          refit=True,\n",
    "                          scoring='accuracy')\n",
    "\n",
    "grid.fit(Xmd_train, y)"
   ]
  },
  {
   "cell_type": "code",
   "execution_count": 17,
   "metadata": {},
   "outputs": [
    {
     "data": {
      "text/plain": [
       "{'algorithm': 'ball_tree',\n",
       " 'leaf_size': 30,\n",
       " 'n_neighbors': 5,\n",
       " 'weights': 'distance'}"
      ]
     },
     "execution_count": 17,
     "metadata": {},
     "output_type": "execute_result"
    }
   ],
   "source": [
    "grid.best_params_"
   ]
  },
  {
   "cell_type": "code",
   "execution_count": 18,
   "metadata": {},
   "outputs": [],
   "source": [
    "from sklearn.metrics import accuracy_score, classification_report\n",
    "\n",
    "Xmd_test = pd.DataFrame(scaler.fit_transform(X_test),columns=feature_names)\n",
    "yhat = grid.predict(Xmd_test )"
   ]
  },
  {
   "cell_type": "code",
   "execution_count": 19,
   "metadata": {},
   "outputs": [
    {
     "data": {
      "text/plain": [
       "0.2"
      ]
     },
     "execution_count": 19,
     "metadata": {},
     "output_type": "execute_result"
    }
   ],
   "source": [
    "accuracy_score(y_test, yhat)"
   ]
  },
  {
   "cell_type": "code",
   "execution_count": 20,
   "metadata": {},
   "outputs": [
    {
     "name": "stdout",
     "output_type": "stream",
     "text": [
      "              precision    recall  f1-score   support\n",
      "\n",
      "         0.0       0.19      0.80      0.31        10\n",
      "         1.0       0.21      0.30      0.25        10\n",
      "         2.0       0.17      0.10      0.12        10\n",
      "         3.0       0.00      0.00      0.00        10\n",
      "         4.0       0.00      0.00      0.00        10\n",
      "         5.0       1.00      0.20      0.33        10\n",
      "         6.0       0.00      0.00      0.00        10\n",
      "\n",
      "    accuracy                           0.20        70\n",
      "   macro avg       0.22      0.20      0.15        70\n",
      "weighted avg       0.22      0.20      0.15        70\n",
      "\n"
     ]
    }
   ],
   "source": [
    "print(classification_report(y_test, yhat))"
   ]
  },
  {
   "cell_type": "code",
   "execution_count": 21,
   "metadata": {},
   "outputs": [
    {
     "name": "stdout",
     "output_type": "stream",
     "text": [
      "[[8 0 1 0 0 0 1]\n",
      " [6 3 1 0 0 0 0]\n",
      " [5 2 1 1 0 0 1]\n",
      " [6 3 0 0 0 0 1]\n",
      " [6 3 1 0 0 0 0]\n",
      " [3 2 1 1 1 2 0]\n",
      " [8 1 1 0 0 0 0]]\n"
     ]
    },
    {
     "data": {
      "image/png": "[encoded data removed]",
      "text/plain": [
       "<Figure size 432x288 with 2 Axes>"
      ]
     },
     "metadata": {
      "needs_background": "light"
     },
     "output_type": "display_data"
    }
   ],
   "source": [
    "print(confusion_matrix(y_test, yhat))\n",
    "color = 'white'\n",
    "mat = confusion_matrix(y_test, yhat)\n",
    "\n",
    "sns.heatmap(mat.T, annot=True, fmt=\"d\")\n",
    "plt.xlabel('true')\n",
    "plt.ylabel('predicted')\n",
    "plt.show()"
   ]
  },
  {
   "cell_type": "markdown",
   "metadata": {},
   "source": [
    "We can see from the confusion matrix that none of the machine learning approaches applied to the dataset yield any fruitful results. Therefore, we will try deep learning methods on this dataset next."
   ]
  }
 ],
 "metadata": {
  "kernelspec": {
   "display_name": "Python 3.10.7 64-bit",
   "language": "python",
   "name": "python3"
  },
  "language_info": {
   "codemirror_mode": {
    "name": "ipython",
    "version": 3
   },
   "file_extension": ".py",
   "mimetype": "text/x-python",
   "name": "python",
   "nbconvert_exporter": "python",
   "pygments_lexer": "ipython3",
   "version": "3.10.7"
  },
  "vscode": {
   "interpreter": {
    "hash": "3a9409b9deca2e32b1801514822bf60b5f36ee24c0efb3dea589c0a4c1325f8a"
   }
  }
 },
 "nbformat": 4,
 "nbformat_minor": 4
}
