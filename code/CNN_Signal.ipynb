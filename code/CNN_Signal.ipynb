{
 "cells": [
  {
   "cell_type": "markdown",
   "id": "dc648747-6cdc-4aa4-b9c0-0096580ab9d5",
   "metadata": {},
   "source": [
    "## CNN USING EEG DATA WITH COH feature ##\n",
    "\n",
    "- In this notebook you will be able to see custom CNN model for EEG Data. Data consists of the 19 electrodes with signals of 6 frequency bands -- alpha, beta, etc. and their coherence with each other"
   ]
  },
  {
   "cell_type": "code",
   "execution_count": 1,
   "id": "3e3248ed-62fb-406c-bfbe-d7b7c51333b2",
   "metadata": {
    "tags": []
   },
   "outputs": [
    {
     "data": {
      "text/html": [
       "<div>\n",
       "<style scoped>\n",
       "    .dataframe tbody tr th:only-of-type {\n",
       "        vertical-align: middle;\n",
       "    }\n",
       "\n",
       "    .dataframe tbody tr th {\n",
       "        vertical-align: top;\n",
       "    }\n",
       "\n",
       "    .dataframe thead th {\n",
       "        text-align: right;\n",
       "    }\n",
       "</style>\n",
       "<table border=\"1\" class=\"dataframe\">\n",
       "  <thead>\n",
       "    <tr style=\"text-align: right;\">\n",
       "      <th></th>\n",
       "      <th>delta.FP1</th>\n",
       "      <th>delta.FP2</th>\n",
       "      <th>delta.F7</th>\n",
       "      <th>delta.F3</th>\n",
       "      <th>delta.Fz</th>\n",
       "      <th>delta.F4</th>\n",
       "      <th>delta.F8</th>\n",
       "      <th>delta.T3</th>\n",
       "      <th>delta.C3</th>\n",
       "      <th>delta.Cz</th>\n",
       "      <th>...</th>\n",
       "      <th>COH.gamma.Pz.T6</th>\n",
       "      <th>COH.gamma.Pz.O1</th>\n",
       "      <th>COH.gamma.Pz.O2</th>\n",
       "      <th>COH.gamma.P4.T6</th>\n",
       "      <th>COH.gamma.P4.O1</th>\n",
       "      <th>COH.gamma.P4.O2</th>\n",
       "      <th>COH.gamma.T6.O1</th>\n",
       "      <th>COH.gamma.T6.O2</th>\n",
       "      <th>COH.gamma.O1.O2</th>\n",
       "      <th>main.disorder</th>\n",
       "    </tr>\n",
       "  </thead>\n",
       "  <tbody>\n",
       "    <tr>\n",
       "      <th>0</th>\n",
       "      <td>13.425118</td>\n",
       "      <td>11.002916</td>\n",
       "      <td>11.942516</td>\n",
       "      <td>15.272216</td>\n",
       "      <td>14.151570</td>\n",
       "      <td>12.456034</td>\n",
       "      <td>8.436832</td>\n",
       "      <td>9.975238</td>\n",
       "      <td>14.834740</td>\n",
       "      <td>10.950564</td>\n",
       "      <td>...</td>\n",
       "      <td>17.510824</td>\n",
       "      <td>26.777368</td>\n",
       "      <td>28.201062</td>\n",
       "      <td>57.108861</td>\n",
       "      <td>32.375401</td>\n",
       "      <td>60.351749</td>\n",
       "      <td>13.900981</td>\n",
       "      <td>57.831848</td>\n",
       "      <td>43.463261</td>\n",
       "      <td>Addictive disorder</td>\n",
       "    </tr>\n",
       "    <tr>\n",
       "      <th>1</th>\n",
       "      <td>29.941780</td>\n",
       "      <td>27.544684</td>\n",
       "      <td>17.150159</td>\n",
       "      <td>23.608960</td>\n",
       "      <td>27.087811</td>\n",
       "      <td>13.541237</td>\n",
       "      <td>16.523963</td>\n",
       "      <td>12.775574</td>\n",
       "      <td>21.686306</td>\n",
       "      <td>18.367666</td>\n",
       "      <td>...</td>\n",
       "      <td>70.654171</td>\n",
       "      <td>39.131547</td>\n",
       "      <td>69.920996</td>\n",
       "      <td>71.063644</td>\n",
       "      <td>38.534505</td>\n",
       "      <td>69.908764</td>\n",
       "      <td>27.180532</td>\n",
       "      <td>64.803155</td>\n",
       "      <td>31.485799</td>\n",
       "      <td>Addictive disorder</td>\n",
       "    </tr>\n",
       "    <tr>\n",
       "      <th>2</th>\n",
       "      <td>21.496226</td>\n",
       "      <td>21.846832</td>\n",
       "      <td>17.364316</td>\n",
       "      <td>13.833701</td>\n",
       "      <td>14.100954</td>\n",
       "      <td>13.100939</td>\n",
       "      <td>14.613650</td>\n",
       "      <td>8.063191</td>\n",
       "      <td>11.015078</td>\n",
       "      <td>11.639560</td>\n",
       "      <td>...</td>\n",
       "      <td>63.822201</td>\n",
       "      <td>36.478254</td>\n",
       "      <td>47.117006</td>\n",
       "      <td>84.658376</td>\n",
       "      <td>24.724096</td>\n",
       "      <td>50.299349</td>\n",
       "      <td>35.319695</td>\n",
       "      <td>79.822944</td>\n",
       "      <td>41.141873</td>\n",
       "      <td>Addictive disorder</td>\n",
       "    </tr>\n",
       "    <tr>\n",
       "      <th>3</th>\n",
       "      <td>37.775667</td>\n",
       "      <td>33.607679</td>\n",
       "      <td>21.865556</td>\n",
       "      <td>21.771413</td>\n",
       "      <td>22.854536</td>\n",
       "      <td>21.456377</td>\n",
       "      <td>15.969042</td>\n",
       "      <td>9.434306</td>\n",
       "      <td>15.244523</td>\n",
       "      <td>17.041979</td>\n",
       "      <td>...</td>\n",
       "      <td>59.166097</td>\n",
       "      <td>51.465531</td>\n",
       "      <td>58.635415</td>\n",
       "      <td>80.685608</td>\n",
       "      <td>62.138436</td>\n",
       "      <td>75.888749</td>\n",
       "      <td>61.003944</td>\n",
       "      <td>87.455509</td>\n",
       "      <td>70.531662</td>\n",
       "      <td>Addictive disorder</td>\n",
       "    </tr>\n",
       "    <tr>\n",
       "      <th>4</th>\n",
       "      <td>13.482096</td>\n",
       "      <td>14.095855</td>\n",
       "      <td>12.854630</td>\n",
       "      <td>11.727480</td>\n",
       "      <td>13.128924</td>\n",
       "      <td>11.627138</td>\n",
       "      <td>14.978119</td>\n",
       "      <td>6.899770</td>\n",
       "      <td>9.751346</td>\n",
       "      <td>14.141171</td>\n",
       "      <td>...</td>\n",
       "      <td>82.302355</td>\n",
       "      <td>83.938567</td>\n",
       "      <td>88.213886</td>\n",
       "      <td>90.972026</td>\n",
       "      <td>77.443894</td>\n",
       "      <td>89.545596</td>\n",
       "      <td>72.579530</td>\n",
       "      <td>89.462863</td>\n",
       "      <td>86.127823</td>\n",
       "      <td>Addictive disorder</td>\n",
       "    </tr>\n",
       "  </tbody>\n",
       "</table>\n",
       "<p>5 rows × 1141 columns</p>\n",
       "</div>"
      ],
      "text/plain": [
       "   delta.FP1  delta.FP2   delta.F7   delta.F3   delta.Fz   delta.F4  \\\n",
       "0  13.425118  11.002916  11.942516  15.272216  14.151570  12.456034   \n",
       "1  29.941780  27.544684  17.150159  23.608960  27.087811  13.541237   \n",
       "2  21.496226  21.846832  17.364316  13.833701  14.100954  13.100939   \n",
       "3  37.775667  33.607679  21.865556  21.771413  22.854536  21.456377   \n",
       "4  13.482096  14.095855  12.854630  11.727480  13.128924  11.627138   \n",
       "\n",
       "    delta.F8   delta.T3   delta.C3   delta.Cz  ...  COH.gamma.Pz.T6  \\\n",
       "0   8.436832   9.975238  14.834740  10.950564  ...        17.510824   \n",
       "1  16.523963  12.775574  21.686306  18.367666  ...        70.654171   \n",
       "2  14.613650   8.063191  11.015078  11.639560  ...        63.822201   \n",
       "3  15.969042   9.434306  15.244523  17.041979  ...        59.166097   \n",
       "4  14.978119   6.899770   9.751346  14.141171  ...        82.302355   \n",
       "\n",
       "   COH.gamma.Pz.O1  COH.gamma.Pz.O2  COH.gamma.P4.T6  COH.gamma.P4.O1  \\\n",
       "0        26.777368        28.201062        57.108861        32.375401   \n",
       "1        39.131547        69.920996        71.063644        38.534505   \n",
       "2        36.478254        47.117006        84.658376        24.724096   \n",
       "3        51.465531        58.635415        80.685608        62.138436   \n",
       "4        83.938567        88.213886        90.972026        77.443894   \n",
       "\n",
       "   COH.gamma.P4.O2  COH.gamma.T6.O1  COH.gamma.T6.O2  COH.gamma.O1.O2  \\\n",
       "0        60.351749        13.900981        57.831848        43.463261   \n",
       "1        69.908764        27.180532        64.803155        31.485799   \n",
       "2        50.299349        35.319695        79.822944        41.141873   \n",
       "3        75.888749        61.003944        87.455509        70.531662   \n",
       "4        89.545596        72.579530        89.462863        86.127823   \n",
       "\n",
       "        main.disorder  \n",
       "0  Addictive disorder  \n",
       "1  Addictive disorder  \n",
       "2  Addictive disorder  \n",
       "3  Addictive disorder  \n",
       "4  Addictive disorder  \n",
       "\n",
       "[5 rows x 1141 columns]"
      ]
     },
     "execution_count": 1,
     "metadata": {},
     "output_type": "execute_result"
    }
   ],
   "source": [
    "import pandas as pd\n",
    "import torch\n",
    "from torch.utils.data import Dataset, DataLoader\n",
    "import torch.nn as nn\n",
    "import numpy as np\n",
    "\n",
    "#importing final dataset prepared for training after ETA and EDA to prepare a CNN based classification model.\n",
    "\n",
    "df = pd.read_csv('./data/final_dataset_train_all.csv')\n",
    "df.head()"
   ]
  },
  {
   "cell_type": "markdown",
   "id": "559394dc-0f08-4231-9528-8efd2a6f9550",
   "metadata": {},
   "source": [
    "- We have total of 1141 columns in this dataset including our target `main.disorder`\n",
    "- Thus, we will use 1140 features to predict the main-disorder of a person"
   ]
  },
  {
   "cell_type": "markdown",
   "id": "82e99f5b-31d0-482d-8ae1-951298ef9ce7",
   "metadata": {},
   "source": [
    "## Preparing Train-Valid Data\n",
    "- Since we already have prepared the train and test data ahead to prevent the data leakage, now we will separate the train data into train-valid data.\n",
    "#### ONE HOT ENCODING FOR TARGETS ####\n",
    "- Since we have seven classes including healthy control we encoded the `target - main.disorder` with the one hot encoding.\n",
    "- This makes our y_data into shape of nx7"
   ]
  },
  {
   "cell_type": "code",
   "execution_count": 2,
   "id": "9bd83e84-94ee-478e-a62b-26cf7c577999",
   "metadata": {},
   "outputs": [
    {
     "data": {
      "text/plain": [
       "(1792,)"
      ]
     },
     "execution_count": 2,
     "metadata": {},
     "output_type": "execute_result"
    }
   ],
   "source": [
    "target = 'main.disorder'\n",
    "\n",
    "y = df[target].copy()\n",
    "y.shape"
   ]
  },
  {
   "cell_type": "code",
   "execution_count": 3,
   "id": "437834d5-345e-4f07-9299-b7d0d5c5c3f8",
   "metadata": {},
   "outputs": [
    {
     "data": {
      "text/plain": [
       "(1792, 7)"
      ]
     },
     "execution_count": 3,
     "metadata": {},
     "output_type": "execute_result"
    }
   ],
   "source": [
    "Y = pd.get_dummies(y)\n",
    "Y.shape"
   ]
  },
  {
   "cell_type": "code",
   "execution_count": 4,
   "id": "4266159d-073e-4879-9124-9be5a516541a",
   "metadata": {},
   "outputs": [
    {
     "data": {
      "text/html": [
       "<div>\n",
       "<style scoped>\n",
       "    .dataframe tbody tr th:only-of-type {\n",
       "        vertical-align: middle;\n",
       "    }\n",
       "\n",
       "    .dataframe tbody tr th {\n",
       "        vertical-align: top;\n",
       "    }\n",
       "\n",
       "    .dataframe thead th {\n",
       "        text-align: right;\n",
       "    }\n",
       "</style>\n",
       "<table border=\"1\" class=\"dataframe\">\n",
       "  <thead>\n",
       "    <tr style=\"text-align: right;\">\n",
       "      <th></th>\n",
       "      <th>Addictive disorder</th>\n",
       "      <th>Anxiety disorder</th>\n",
       "      <th>Healthy control</th>\n",
       "      <th>Mood disorder</th>\n",
       "      <th>Obsessive compulsive disorder</th>\n",
       "      <th>Schizophrenia</th>\n",
       "      <th>Trauma and stress related disorder</th>\n",
       "    </tr>\n",
       "  </thead>\n",
       "  <tbody>\n",
       "    <tr>\n",
       "      <th>0</th>\n",
       "      <td>1</td>\n",
       "      <td>0</td>\n",
       "      <td>0</td>\n",
       "      <td>0</td>\n",
       "      <td>0</td>\n",
       "      <td>0</td>\n",
       "      <td>0</td>\n",
       "    </tr>\n",
       "    <tr>\n",
       "      <th>1</th>\n",
       "      <td>1</td>\n",
       "      <td>0</td>\n",
       "      <td>0</td>\n",
       "      <td>0</td>\n",
       "      <td>0</td>\n",
       "      <td>0</td>\n",
       "      <td>0</td>\n",
       "    </tr>\n",
       "    <tr>\n",
       "      <th>2</th>\n",
       "      <td>1</td>\n",
       "      <td>0</td>\n",
       "      <td>0</td>\n",
       "      <td>0</td>\n",
       "      <td>0</td>\n",
       "      <td>0</td>\n",
       "      <td>0</td>\n",
       "    </tr>\n",
       "    <tr>\n",
       "      <th>3</th>\n",
       "      <td>1</td>\n",
       "      <td>0</td>\n",
       "      <td>0</td>\n",
       "      <td>0</td>\n",
       "      <td>0</td>\n",
       "      <td>0</td>\n",
       "      <td>0</td>\n",
       "    </tr>\n",
       "    <tr>\n",
       "      <th>4</th>\n",
       "      <td>1</td>\n",
       "      <td>0</td>\n",
       "      <td>0</td>\n",
       "      <td>0</td>\n",
       "      <td>0</td>\n",
       "      <td>0</td>\n",
       "      <td>0</td>\n",
       "    </tr>\n",
       "  </tbody>\n",
       "</table>\n",
       "</div>"
      ],
      "text/plain": [
       "   Addictive disorder  Anxiety disorder  Healthy control  Mood disorder  \\\n",
       "0                   1                 0                0              0   \n",
       "1                   1                 0                0              0   \n",
       "2                   1                 0                0              0   \n",
       "3                   1                 0                0              0   \n",
       "4                   1                 0                0              0   \n",
       "\n",
       "   Obsessive compulsive disorder  Schizophrenia  \\\n",
       "0                              0              0   \n",
       "1                              0              0   \n",
       "2                              0              0   \n",
       "3                              0              0   \n",
       "4                              0              0   \n",
       "\n",
       "   Trauma and stress related disorder  \n",
       "0                                   0  \n",
       "1                                   0  \n",
       "2                                   0  \n",
       "3                                   0  \n",
       "4                                   0  "
      ]
     },
     "execution_count": 4,
     "metadata": {},
     "output_type": "execute_result"
    }
   ],
   "source": [
    "Y.head()"
   ]
  },
  {
   "cell_type": "code",
   "execution_count": 5,
   "id": "9b6c2d7a-bfe5-4606-ae2b-8458abac3cc9",
   "metadata": {},
   "outputs": [
    {
     "data": {
      "text/plain": [
       "(1792, 1140)"
      ]
     },
     "execution_count": 5,
     "metadata": {},
     "output_type": "execute_result"
    }
   ],
   "source": [
    "X = df.drop([target], axis = 1)\n",
    "X.shape"
   ]
  },
  {
   "cell_type": "code",
   "execution_count": 6,
   "id": "38c6707f-dd6b-4496-8863-1cce3e11c9ee",
   "metadata": {},
   "outputs": [
    {
     "data": {
      "text/plain": [
       "((1612, 1140), (180, 1140), (1612, 7), (180, 7))"
      ]
     },
     "execution_count": 6,
     "metadata": {},
     "output_type": "execute_result"
    }
   ],
   "source": [
    "from sklearn.model_selection import train_test_split\n",
    "def train_test_dataset(X,y, split):\n",
    "    X_train, X_test, y_train, y_test = train_test_split(X, y, test_size=split, random_state=42)\n",
    "    return X_train, X_test, y_train, y_test\n",
    "\n",
    "X_train, X_test, y_train, y_test = train_test_dataset(X,Y, split = 0.10)\n",
    "\n",
    "X_train.shape, X_test.shape, y_train.shape, y_test.shape"
   ]
  },
  {
   "cell_type": "markdown",
   "id": "eb63e8e7-e96b-46a1-a130-3ec2462a428c",
   "metadata": {},
   "source": [
    "### This is the shape of our final train and valid data ###\n",
    "\n",
    "- Below this cell we tried to make sure that all the classes are included in our train and valid dataset"
   ]
  },
  {
   "cell_type": "code",
   "execution_count": 7,
   "id": "fd5b6e8e-802c-4e5b-84d8-ac7294e0f3ba",
   "metadata": {},
   "outputs": [
    {
     "data": {
      "text/plain": [
       "(Addictive disorder                    25\n",
       " Anxiety disorder                      23\n",
       " Healthy control                       19\n",
       " Mood disorder                         34\n",
       " Obsessive compulsive disorder         28\n",
       " Schizophrenia                         26\n",
       " Trauma and stress related disorder    25\n",
       " dtype: int64,\n",
       " Addictive disorder                    231\n",
       " Anxiety disorder                      233\n",
       " Healthy control                       237\n",
       " Mood disorder                         222\n",
       " Obsessive compulsive disorder         228\n",
       " Schizophrenia                         230\n",
       " Trauma and stress related disorder    231\n",
       " dtype: int64)"
      ]
     },
     "execution_count": 7,
     "metadata": {},
     "output_type": "execute_result"
    }
   ],
   "source": [
    "# Make sure that in 10% split we will have all the classes in valid and train set.\n",
    "\n",
    "assert len(y_test.sum(axis=0)) == len(y_train.sum(axis=0))\n",
    "y_test.sum(axis=0), y_train.sum(axis=0)"
   ]
  },
  {
   "cell_type": "markdown",
   "id": "4360a766-534d-426d-bab1-6d850f870b14",
   "metadata": {},
   "source": [
    "## USING MINMAX NORMALIZATION FOR THE SIGNAL DATA ##\n",
    "\n",
    "$$ m = \\frac{(x -xmin)}{(xmax -xmin)} $$"
   ]
  },
  {
   "cell_type": "code",
   "execution_count": 8,
   "id": "64e79c64-3c44-46f1-a4fe-9739a5efd534",
   "metadata": {},
   "outputs": [],
   "source": [
    "from sklearn.preprocessing import MinMaxScaler\n",
    "\n",
    "scaler = MinMaxScaler()\n",
    "X_train = pd.DataFrame(scaler.fit_transform(X_train),columns=X.columns)\n",
    "X_test = pd.DataFrame(scaler.transform(X_test),columns=X.columns)"
   ]
  },
  {
   "cell_type": "markdown",
   "id": "0dcba0bc-b9d7-4a23-b27c-cea1573d7e70",
   "metadata": {},
   "source": [
    "### Prepare custom dataset to load the data in dataloader for pytorch approarch ###"
   ]
  },
  {
   "cell_type": "code",
   "execution_count": 9,
   "id": "7ddd0d8b-0f3f-4fd3-bd93-4e45b9d6233b",
   "metadata": {},
   "outputs": [],
   "source": [
    "#Prepare manual dataset that will return target and features to our model\n",
    "torch.manual_seed(555)\n",
    "datasets = {}\n",
    "class EEGDataset(Dataset):\n",
    "    def __init__(self, X,y):\n",
    "        self.X = torch.tensor(X.values)\n",
    "        self.y = torch.tensor(y.values)\n",
    "\n",
    "    def __getitem__(self, idx):\n",
    "        preds = self.X[idx].float()\n",
    "        trgts = self.y[idx].float()\n",
    "        \n",
    "        return preds, trgts\n",
    "\n",
    "    def __len__(self):\n",
    "        return len(self.X)\n",
    "\n",
    "datasets['train'] = EEGDataset(X_train,y_train)\n",
    "datasets['test'] = EEGDataset(X_test,y_test)"
   ]
  },
  {
   "cell_type": "code",
   "execution_count": 10,
   "id": "a4dd0146-fc7b-48e9-b95a-6488cd9f4aef",
   "metadata": {},
   "outputs": [
    {
     "data": {
      "text/plain": [
       "((tensor([0.2259, 0.2559, 0.3242,  ..., 0.2722, 0.6009, 0.4339]),\n",
       "  tensor([0., 1., 0., 0., 0., 0., 0.])),\n",
       " (tensor([0.0978, 0.1014, 0.0635,  ..., 0.3474, 0.7995, 0.5170]),\n",
       "  tensor([0., 0., 0., 1., 0., 0., 0.])))"
      ]
     },
     "execution_count": 10,
     "metadata": {},
     "output_type": "execute_result"
    }
   ],
   "source": [
    "datasets['train'][0], datasets['test'][0]"
   ]
  },
  {
   "cell_type": "code",
   "execution_count": 11,
   "id": "626a1f92-9084-43c1-a5ab-f9085f707815",
   "metadata": {},
   "outputs": [],
   "source": [
    "train_loader = DataLoader(datasets['train'], shuffle=True)\n",
    "test_loader = DataLoader(datasets['test'],shuffle=True)"
   ]
  },
  {
   "cell_type": "code",
   "execution_count": 12,
   "id": "195f6539-c11c-4d83-8cf2-060b40ff3e4a",
   "metadata": {},
   "outputs": [
    {
     "name": "stdout",
     "output_type": "stream",
     "text": [
      "tensor([[0.0635, 0.0981, 0.0942,  ..., 0.0854, 0.4309, 0.5808]])\n",
      "tensor([[0., 0., 0., 0., 0., 0., 1.]])\n"
     ]
    }
   ],
   "source": [
    "for X, y in train_loader:\n",
    "    print(X)\n",
    "    print(y)\n",
    "    break"
   ]
  },
  {
   "cell_type": "code",
   "execution_count": 13,
   "id": "71301013-8f83-4659-8ccb-122577f456d7",
   "metadata": {},
   "outputs": [
    {
     "name": "stdout",
     "output_type": "stream",
     "text": [
      "Number of training samples:  1612\n",
      "Number of testing samples:  180\n"
     ]
    }
   ],
   "source": [
    "print(\"Number of training samples: \",len(datasets['train']))\n",
    "print(\"Number of testing samples: \",len(datasets['test']))"
   ]
  },
  {
   "cell_type": "code",
   "execution_count": 14,
   "id": "768aa471-481e-4860-a592-e72cd81f7851",
   "metadata": {},
   "outputs": [],
   "source": [
    "def count_parameters(model):\n",
    "    params = [p.numel() for p in model.parameters() if p.requires_grad]\n",
    "    for item in params:\n",
    "        print(f'{item:>6}')\n",
    "    print(f'______\\n{sum(params):>6}')"
   ]
  },
  {
   "cell_type": "code",
   "execution_count": 15,
   "id": "7a9b7253-55bc-48e7-a195-61c415ae5168",
   "metadata": {},
   "outputs": [],
   "source": [
    "class eegConv1d(nn.Module):\n",
    "    def __init__(self, input_size = 1, hidden_size=32, out_size=7):\n",
    "        super().__init__()\n",
    "        self.conv1d   = nn.Conv1d(input_size, hidden_size, kernel_size = 3,stride =1)\n",
    "        # nn.init.normal_(self.conv1d.weight, mean=0.0, std=1)\n",
    "        self.linear = nn.Linear(36416, out_size) \n",
    "        \n",
    "    def forward(self, seq):\n",
    "        #seq = seq.unsqueeze(dim=0)\n",
    "        out = self.conv1d(seq) \n",
    "        out = out.reshape(-1,36416)\n",
    "        out = self.linear(out)\n",
    "        return out  "
   ]
  },
  {
   "cell_type": "code",
   "execution_count": 16,
   "id": "d946378a-ae8a-41b8-aa08-38ca8b922965",
   "metadata": {},
   "outputs": [],
   "source": [
    "class CNN(nn.Module):\n",
    "    def __init__(self):\n",
    "        super().__init__()\n",
    "        self.conv1 = nn.Conv1d(1,64,6,stride = 1)\n",
    "        # nn.init.normal_(self.conv1.weight, mean=0.0, std=1)\n",
    "        self.conv2 = nn.Conv1d(64,8,6,stride = 1)\n",
    "        # nn.init.normal_(self.conv2.weight, mean=0.0, std=1)\n",
    "        self.linear1 = nn.Linear(9040,1024) #\n",
    "        self.linear2 = nn.Linear(1024, 7)\n",
    "        self.leakyrelu = nn.LeakyReLU()\n",
    "        self.dropout = nn.Dropout(p = 0.25)\n",
    "        \n",
    "        #self.softmax = nn.Softmax()\n",
    "    def forward(self, X):\n",
    "        #X = X.unsqueeze(dim=0)\n",
    "        X = self.leakyrelu(self.conv1(X))\n",
    "        X = self.leakyrelu(self.conv2(X)) \n",
    "#         X = self.dropout(X)\n",
    "#         X = self.dropout(X)\n",
    "        X = X.view(-1, 9040)\n",
    "        X = self.leakyrelu(self.linear1(X))\n",
    "        X = self.dropout(X)\n",
    "        X = self.leakyrelu(self.linear2(X))\n",
    "\n",
    "        return X"
   ]
  },
  {
   "cell_type": "code",
   "execution_count": 17,
   "id": "1543d788-3cd6-4b62-a3b3-385be39ec78b",
   "metadata": {},
   "outputs": [
    {
     "name": "stdout",
     "output_type": "stream",
     "text": [
      "Small Model parameters\n",
      "    96\n",
      "    32\n",
      "254912\n",
      "     7\n",
      "______\n",
      "255047\n"
     ]
    }
   ],
   "source": [
    "device = torch.device('cuda:2')\n",
    "CNNmodel_s  = eegConv1d().to(device)\n",
    "print(\"Small Model parameters\")\n",
    "count_parameters(CNNmodel_s)"
   ]
  },
  {
   "cell_type": "code",
   "execution_count": 18,
   "id": "2fdc24b3-6daf-4c7f-afae-dfa3c5aa5dff",
   "metadata": {},
   "outputs": [
    {
     "name": "stdout",
     "output_type": "stream",
     "text": [
      "Large Model parameters\n",
      "   384\n",
      "    64\n",
      "  3072\n",
      "     8\n",
      "9256960\n",
      "  1024\n",
      "  7168\n",
      "     7\n",
      "______\n",
      "9268687\n"
     ]
    }
   ],
   "source": [
    "CNNmodel_l  = CNN().to(device)\n",
    "print(\"Large Model parameters\")\n",
    "count_parameters(CNNmodel_l)"
   ]
  },
  {
   "cell_type": "markdown",
   "id": "ccc8b0de-e8fa-48a1-b173-46a1d874e3d4",
   "metadata": {},
   "source": [
    "## SELECT FROM THE ABOVE MODELs FOR TRAINING ##"
   ]
  },
  {
   "cell_type": "code",
   "execution_count": 19,
   "id": "ebd0952d-446e-48bf-9d6f-86011de881f8",
   "metadata": {},
   "outputs": [
    {
     "name": "stdout",
     "output_type": "stream",
     "text": [
      "Please select from above models... 0 for simple model, 1 for deep model\n"
     ]
    },
    {
     "name": "stdout",
     "output_type": "stream",
     "text": [
      " 1\n"
     ]
    }
   ],
   "source": [
    "print(\"Please select from above models... 0 for simple model, 1 for deep model\")\n",
    "mod = int(input())\n",
    "if mod == 0:\n",
    "    CNNmodel = CNNmodel_s\n",
    "    mo = \"Simple\"\n",
    "elif mod == 1:\n",
    "    CNNmodel = CNNmodel_l\n",
    "    mo = \"Deep\"\n"
   ]
  },
  {
   "cell_type": "code",
   "execution_count": 20,
   "id": "3deaee35-a5ee-4bac-8a26-76e57c1c4672",
   "metadata": {},
   "outputs": [
    {
     "data": {
      "text/plain": [
       "CNN(\n",
       "  (conv1): Conv1d(1, 64, kernel_size=(6,), stride=(1,))\n",
       "  (conv2): Conv1d(64, 8, kernel_size=(6,), stride=(1,))\n",
       "  (linear1): Linear(in_features=9040, out_features=1024, bias=True)\n",
       "  (linear2): Linear(in_features=1024, out_features=7, bias=True)\n",
       "  (leakyrelu): LeakyReLU(negative_slope=0.01)\n",
       "  (dropout): Dropout(p=0.25, inplace=False)\n",
       ")"
      ]
     },
     "execution_count": 20,
     "metadata": {},
     "output_type": "execute_result"
    }
   ],
   "source": [
    "CNNmodel"
   ]
  },
  {
   "cell_type": "markdown",
   "id": "9d99cfaa-aa33-426d-b7e9-ef3265a308cc",
   "metadata": {},
   "source": [
    "### SELECT OPTIMIZER, LEARNING RATES AND OTHER HYPERPARAMS FOR TRAINING ###"
   ]
  },
  {
   "cell_type": "code",
   "execution_count": 21,
   "id": "74f4e638-f3f2-4f58-99fe-e72ba54b3a47",
   "metadata": {},
   "outputs": [
    {
     "name": "stdout",
     "output_type": "stream",
     "text": [
      "Choose optimizer. Enter 0 for Adam and 1 for SGD\n"
     ]
    },
    {
     "name": "stdout",
     "output_type": "stream",
     "text": [
      " 0\n"
     ]
    },
    {
     "name": "stdout",
     "output_type": "stream",
     "text": [
      "Enter the learning rate\n"
     ]
    },
    {
     "name": "stdout",
     "output_type": "stream",
     "text": [
      " 0.0005\n"
     ]
    }
   ],
   "source": [
    "criterion = nn.CrossEntropyLoss()\n",
    "print(\"Choose optimizer. Enter 0 for Adam and 1 for SGD\")\n",
    "op = input()\n",
    "if int(op) == 0:\n",
    "    optim = 'ADAM'\n",
    "    print(\"Enter the learning rate\")\n",
    "    learning_rate = float(input())\n",
    "    optimizer = torch.optim.Adam(CNNmodel.parameters(), lr=learning_rate)\n",
    "    \n",
    "elif int(op) == 1:\n",
    "    optim = 'SGD'\n",
    "    print(\"Enter the learning rate\")\n",
    "    learning_rate = float(input())\n",
    "    print(\"Enter the momentum value.. (0-1)\")\n",
    "    m = float(input())\n",
    "    optimizer = torch.optim.SGD(CNNmodel.parameters(), lr=learning_rate, momentum = m)"
   ]
  },
  {
   "cell_type": "code",
   "execution_count": 22,
   "id": "e9fdf5b4-ddc4-476d-bcc1-f81647da8e54",
   "metadata": {},
   "outputs": [
    {
     "data": {
      "text/plain": [
       "(Adam (\n",
       " Parameter Group 0\n",
       "     amsgrad: False\n",
       "     betas: (0.9, 0.999)\n",
       "     capturable: False\n",
       "     differentiable: False\n",
       "     eps: 1e-08\n",
       "     foreach: None\n",
       "     fused: False\n",
       "     lr: 0.0005\n",
       "     maximize: False\n",
       "     weight_decay: 0\n",
       " ),\n",
       " CrossEntropyLoss())"
      ]
     },
     "execution_count": 22,
     "metadata": {},
     "output_type": "execute_result"
    }
   ],
   "source": [
    "optimizer, criterion"
   ]
  },
  {
   "cell_type": "code",
   "execution_count": 23,
   "id": "7a157346-cd8f-4c7b-b8f3-3679446269af",
   "metadata": {},
   "outputs": [
    {
     "data": {
      "text/plain": [
       "CNN(\n",
       "  (conv1): Conv1d(1, 64, kernel_size=(6,), stride=(1,))\n",
       "  (conv2): Conv1d(64, 8, kernel_size=(6,), stride=(1,))\n",
       "  (linear1): Linear(in_features=9040, out_features=1024, bias=True)\n",
       "  (linear2): Linear(in_features=1024, out_features=7, bias=True)\n",
       "  (leakyrelu): LeakyReLU(negative_slope=0.01)\n",
       "  (dropout): Dropout(p=0.25, inplace=False)\n",
       ")"
      ]
     },
     "execution_count": 23,
     "metadata": {},
     "output_type": "execute_result"
    }
   ],
   "source": [
    "CNNmodel"
   ]
  },
  {
   "cell_type": "markdown",
   "id": "d76ebef7-4541-4fbb-b1d5-8ee64d5be5d8",
   "metadata": {},
   "source": [
    "## TRAINING AND VALIDATION ##"
   ]
  },
  {
   "cell_type": "code",
   "execution_count": 24,
   "id": "dc242495-014e-42db-a3d2-242bc18eb3d7",
   "metadata": {},
   "outputs": [
    {
     "name": "stdout",
     "output_type": "stream",
     "text": [
      "Epoch 0 train_loss:     1.946 train_acc:   15.5707 val_acc:     11.111 val_loss:    1.9449\n",
      "Epoch 1 train_loss:     1.954 train_acc:   15.6328 val_acc:     15.556 val_loss:    1.9413\n",
      "Epoch 2 train_loss:     1.927 train_acc:   15.1985 val_acc:     10.000 val_loss:    1.9545\n",
      "Epoch 3 train_loss:     2.211 train_acc:   18.6104 val_acc:     16.667 val_loss:    1.8373\n",
      "Epoch 4 train_loss:     1.564 train_acc:   29.0323 val_acc:     35.000 val_loss:    1.6512\n",
      "Epoch 5 train_loss:     1.281 train_acc:   40.8809 val_acc:     33.889 val_loss:    2.0383\n",
      "Epoch 6 train_loss:     1.358 train_acc:   48.8213 val_acc:     47.222 val_loss:    2.4357\n",
      "Epoch 7 train_loss:     1.212 train_acc:   55.7692 val_acc:     53.889 val_loss:    0.8150\n",
      "Epoch 8 train_loss:     0.588 train_acc:   65.3226 val_acc:     50.556 val_loss:    2.9733\n",
      "Epoch 9 train_loss:     0.406 train_acc:   72.4566 val_acc:     62.222 val_loss:    1.0960\n",
      "Epoch 10 train_loss:     0.323 train_acc:   77.5434 val_acc:     65.000 val_loss:    2.0121\n",
      "Epoch 11 train_loss:     0.127 train_acc:   82.5682 val_acc:     63.889 val_loss:    0.1790\n",
      "Epoch 12 train_loss:     0.043 train_acc:   86.2283 val_acc:     66.667 val_loss:    0.0000\n",
      "Epoch 13 train_loss:     1.266 train_acc:   89.6402 val_acc:     66.111 val_loss:    0.2929\n",
      "Epoch 14 train_loss:    -0.000 train_acc:   90.6328 val_acc:     67.778 val_loss:    0.0995\n",
      "Epoch 15 train_loss:     0.168 train_acc:   89.2060 val_acc:     68.889 val_loss:    0.0028\n",
      "Epoch 16 train_loss:     0.043 train_acc:   92.2457 val_acc:     67.222 val_loss:    0.0001\n",
      "Epoch 17 train_loss:    -0.000 train_acc:   94.7270 val_acc:     68.889 val_loss:    9.4820\n",
      "Epoch 18 train_loss:     0.004 train_acc:   95.4715 val_acc:     70.556 val_loss:    0.0001\n",
      "Epoch 19 train_loss:     0.004 train_acc:   95.3474 val_acc:     72.778 val_loss:    0.0792\n",
      "Epoch 20 train_loss:     0.003 train_acc:   96.1538 val_acc:     70.000 val_loss:    5.5507\n",
      "Epoch 21 train_loss:     0.012 train_acc:   94.5409 val_acc:     77.222 val_loss:    0.0002\n",
      "Epoch 22 train_loss:     0.007 train_acc:   96.5261 val_acc:     72.222 val_loss:    0.1798\n",
      ".................Early stoping....................at Epoch :23\n",
      "[[14.  1.  0.  6.  0.  0.  0.]\n",
      " [ 1. 19.  0.  7.  0.  0.  2.]\n",
      " [ 2.  0. 16.  0.  0.  1.  0.]\n",
      " [ 3.  1.  0. 13.  0.  1.  3.]\n",
      " [ 1.  1.  0.  0. 28.  0.  0.]\n",
      " [ 4.  1.  3.  4.  0. 21.  1.]\n",
      " [ 0.  0.  0.  4.  0.  3. 19.]]\n"
     ]
    }
   ],
   "source": [
    "import time\n",
    "\n",
    "epochs = 100\n",
    "\n",
    "train_losses = []\n",
    "val_losses = []\n",
    "train_accuracy = []\n",
    "val_accuracy = []\n",
    "best_val_loss = 10\n",
    "early_stoping = False\n",
    "j=0\n",
    "\n",
    "\n",
    "for i in range(epochs):\n",
    "    start_time = time.time()\n",
    "    confusion_matrix = np.zeros((7,7))\n",
    "    train_correct = 0\n",
    "    train_total = 0\n",
    "    val_total   = 0  \n",
    "    train_acc   = 0\n",
    "    val_acc     = 0\n",
    "    val_correct = 0\n",
    "    CNNmodel.train()\n",
    "    for X_train, y_train in train_loader:\n",
    "        y_train = y_train.to(device)\n",
    "        X_train = X_train.to(device)\n",
    "        y_pred = CNNmodel(X_train)\n",
    "        predicted = torch.max(y_pred, 1)[1]\n",
    "        train_total += y_train.size(0)\n",
    "        train_correct += (predicted == torch.argmax(y_train,1)).sum().item()\n",
    "        train_acc = 100 * (train_correct / train_total)\n",
    "        train_loss = criterion(y_pred, y_train)\n",
    "        optimizer.zero_grad()\n",
    "        train_loss.backward()\n",
    "        optimizer.step()\n",
    "    train_losses.append(train_loss)\n",
    "    train_accuracy.append(train_acc)\n",
    "    \n",
    "    # Run the validation batches\n",
    "    with torch.no_grad():\n",
    "        for b, (X_val, y_val) in enumerate(test_loader):\n",
    "            y_val = y_val.to(device)\n",
    "            X_val = X_val.to(device)\n",
    "            yhat_val = CNNmodel(X_val)     \n",
    "            _, predicted = torch.max(yhat_val.data, 1)\n",
    "            val_total += y_val.size(0)  #keep track of total\n",
    "            actual = torch.argmax(y_val,1)\n",
    "            val_correct += (predicted == actual).sum().item()  #.item() give the raw number\n",
    "            confusion_matrix[predicted][actual] +=1\n",
    "            val_acc = 100 * (val_correct / val_total)\n",
    "            val_loss = criterion(yhat_val, y_val)\n",
    "    val_losses.append(val_loss)\n",
    "    val_accuracy.append(val_acc)\n",
    "    end_time = time.time()\n",
    "    print(f\"Epoch {i} train_loss:{train_loss:10.3f} train_acc:{train_acc:10.4f} val_acc: {val_acc:10.3f} val_loss:{val_loss:10.4f}\")\n",
    "     \n",
    "    if val_loss > best_val_loss:\n",
    "        j = j+1\n",
    "        if j==10:\n",
    "            print(f\".................Early stoping....................at Epoch :{i+1}\" )\n",
    "            print(confusion_matrix)\n",
    "            break\n",
    "    elif best_val_loss > val_loss:\n",
    "        j = 0\n",
    "        best_val_loss = val_loss\n",
    "        xyz = 'models/with_COH_epoch_' + str(i) + '_model_' + str(mo) +'_' +str(optim) + '.pth.tar'\n",
    "        torch.save(CNNmodel.state_dict(), xyz)"
   ]
  },
  {
   "cell_type": "code",
   "execution_count": 33,
   "id": "6e207b79-c47e-43a9-869b-c67e1c664f0b",
   "metadata": {},
   "outputs": [],
   "source": [
    "train_losses_n = [tensor.item() for tensor in train_losses]\n",
    "val_losses_n = [tensor for tensor in val_losses]"
   ]
  },
  {
   "cell_type": "markdown",
   "id": "2d2aa47a-d73b-4aa6-bfab-526779918a19",
   "metadata": {},
   "source": [
    "### VALIDATION AND TRAINING LOSS COMPARISION ###"
   ]
  },
  {
   "cell_type": "code",
   "execution_count": 38,
   "id": "8096ec52-e644-439f-85cc-893072089e64",
   "metadata": {},
   "outputs": [
    {
     "data": {
      "image/png": "[encoded data removed]",
      "text/plain": [
       "<Figure size 432x288 with 1 Axes>"
      ]
     },
     "metadata": {
      "needs_background": "light"
     },
     "output_type": "display_data"
    }
   ],
   "source": [
    "import matplotlib.pyplot as plt\n",
    "plt.plot(train_losses_n, label='training loss')\n",
    "plt.plot(val_losses_n, label='Validation loss')\n",
    "plt.title('Loss at the end of each epoch')\n",
    "plt.legend();\n",
    "# plt.ylim(0,2)\n",
    "plt.savefig(f\"Loss_comparision_{optim}_lr_{learning_rate}_model_{mo}.png\")"
   ]
  },
  {
   "cell_type": "code",
   "execution_count": 39,
   "id": "1a60d87d-6863-4a0f-94bb-e23cada9fc7f",
   "metadata": {},
   "outputs": [
    {
     "data": {
      "image/png": "[encoded data removed]",
      "text/plain": [
       "<Figure size 432x288 with 1 Axes>"
      ]
     },
     "metadata": {
      "needs_background": "light"
     },
     "output_type": "display_data"
    }
   ],
   "source": [
    "plt.plot(train_accuracy, label='training Accuracy')\n",
    "plt.plot(val_accuracy, label='Validation Accuracy')\n",
    "plt.title('Accuracy at the end of each epoch')\n",
    "plt.legend();\n",
    "plt.savefig(f\"Accuracy_comparision_{optim}_lr_{learning_rate}_model_{mo}.png\")"
   ]
  },
  {
   "cell_type": "markdown",
   "id": "4667bfe6-8c97-4dbc-8873-9bfb6e07be83",
   "metadata": {},
   "source": [
    "### Standardize the Confusion Matrix and Display the Matrix ###"
   ]
  },
  {
   "cell_type": "code",
   "execution_count": 40,
   "id": "a550faca-4caa-4e6d-8653-a4f66257aede",
   "metadata": {},
   "outputs": [
    {
     "data": {
      "text/plain": [
       "array([[0.56      , 0.04347826, 0.        , 0.17647059, 0.        ,\n",
       "        0.        , 0.        ],\n",
       "       [0.04      , 0.82608696, 0.        , 0.20588235, 0.        ,\n",
       "        0.        , 0.08      ],\n",
       "       [0.08      , 0.        , 0.84210526, 0.        , 0.        ,\n",
       "        0.03846154, 0.        ],\n",
       "       [0.12      , 0.04347826, 0.        , 0.38235294, 0.        ,\n",
       "        0.03846154, 0.12      ],\n",
       "       [0.04      , 0.04347826, 0.        , 0.        , 1.        ,\n",
       "        0.        , 0.        ],\n",
       "       [0.16      , 0.04347826, 0.15789474, 0.11764706, 0.        ,\n",
       "        0.80769231, 0.04      ],\n",
       "       [0.        , 0.        , 0.        , 0.11764706, 0.        ,\n",
       "        0.11538462, 0.76      ]])"
      ]
     },
     "execution_count": 40,
     "metadata": {},
     "output_type": "execute_result"
    }
   ],
   "source": [
    "final_matrix = confusion_matrix / confusion_matrix.sum(axis = 0)\n",
    "final_matrix"
   ]
  },
  {
   "cell_type": "code",
   "execution_count": 41,
   "id": "509235a6-5fa1-4ffb-8061-5e4d3c1f668d",
   "metadata": {},
   "outputs": [
    {
     "name": "stderr",
     "output_type": "stream",
     "text": [
      "/tmp/ipykernel_1494/1342201711.py:7: UserWarning: FixedFormatter should only be used together with FixedLocator\n",
      "  ax.set_yticklabels(['']+target_cols)\n",
      "/tmp/ipykernel_1494/1342201711.py:8: UserWarning: FixedFormatter should only be used together with FixedLocator\n",
      "  ax.set_xticklabels(['']+target_cols, rotation=90)\n"
     ]
    },
    {
     "data": {
      "image/png": "[encoded data removed]",
      "text/plain": [
       "<Figure size 648x648 with 1 Axes>"
      ]
     },
     "metadata": {
      "needs_background": "light"
     },
     "output_type": "display_data"
    },
    {
     "data": {
      "text/plain": [
       "<Figure size 432x288 with 0 Axes>"
      ]
     },
     "metadata": {},
     "output_type": "display_data"
    }
   ],
   "source": [
    "## SHOW CONFUSION MATRIX\n",
    "\n",
    "target_cols = Y.columns.tolist()\n",
    "fig, ax = plt.subplots()\n",
    "fig.set_figheight(9)\n",
    "fig.set_figwidth(9)\n",
    "ax.set_yticklabels(['']+target_cols)\n",
    "ax.set_xticklabels(['']+target_cols, rotation=90)\n",
    "\n",
    "# Using matshow here just because it sets the ticks up nicely. imshow is faster.\n",
    "ax.matshow(final_matrix, cmap='YlOrRd')\n",
    "for (i, j), z in np.ndenumerate(final_matrix):\n",
    "    ax.text(j, i, '{:0.1f}'.format(z), ha='center', va='center')\n",
    "plt.show()\n",
    "plt.savefig(f\"Confusion_matrix_{optim}_lr_{learning_rate}_model_{mo}.png\")"
   ]
  },
  {
   "cell_type": "markdown",
   "id": "20e15563-5fa1-4423-8578-a5d1c085eea4",
   "metadata": {},
   "source": [
    "## TESTING ON TEST DATA ##"
   ]
  },
  {
   "cell_type": "code",
   "execution_count": 56,
   "id": "eefc228c-c71b-40fa-8d0b-dde5a4d394f4",
   "metadata": {},
   "outputs": [
    {
     "data": {
      "text/plain": [
       "(70, 1141)"
      ]
     },
     "execution_count": 56,
     "metadata": {},
     "output_type": "execute_result"
    }
   ],
   "source": [
    "ttestt = pd.read_csv(\"final_dataset_test_all.csv\")\n",
    "ttestt.shape"
   ]
  },
  {
   "cell_type": "code",
   "execution_count": 58,
   "id": "6813a506-d10b-440b-ada6-0fc5a9b1709f",
   "metadata": {},
   "outputs": [
    {
     "data": {
      "text/plain": [
       "(70,)"
      ]
     },
     "execution_count": 58,
     "metadata": {},
     "output_type": "execute_result"
    }
   ],
   "source": [
    "target = 'main.disorder'\n",
    "\n",
    "test_y = ttestt[target].copy()\n",
    "test_y.shape"
   ]
  },
  {
   "cell_type": "code",
   "execution_count": 59,
   "id": "0dcbbe7c-0060-4b0c-9667-851a693d8f4e",
   "metadata": {},
   "outputs": [
    {
     "data": {
      "text/plain": [
       "(70, 7)"
      ]
     },
     "execution_count": 59,
     "metadata": {},
     "output_type": "execute_result"
    }
   ],
   "source": [
    "test_Y = pd.get_dummies(test_y)\n",
    "test_Y.shape"
   ]
  },
  {
   "cell_type": "code",
   "execution_count": 60,
   "id": "2154725b-a4a9-41b0-9cf1-0208afb48c08",
   "metadata": {},
   "outputs": [
    {
     "data": {
      "text/plain": [
       "(70, 1140)"
      ]
     },
     "execution_count": 60,
     "metadata": {},
     "output_type": "execute_result"
    }
   ],
   "source": [
    "test_X = ttestt.drop([target], axis = 1)\n",
    "test_X.shape"
   ]
  },
  {
   "cell_type": "code",
   "execution_count": 61,
   "id": "a86b8b1b-5cd6-47ee-b851-8d0e65091921",
   "metadata": {},
   "outputs": [
    {
     "name": "stdout",
     "output_type": "stream",
     "text": [
      "Number of testing samples:  70\n"
     ]
    }
   ],
   "source": [
    "datasets['ttestt'] = EEGDataset(test_X,test_Y)\n",
    "print(\"Number of testing samples: \",len(datasets['ttestt']))\n",
    "ttestt_loader = DataLoader(datasets['ttestt'],shuffle=True)"
   ]
  },
  {
   "cell_type": "code",
   "execution_count": 62,
   "id": "1b144735-27d9-4f92-95c0-75901240f1a7",
   "metadata": {},
   "outputs": [],
   "source": [
    "test_accuracy = []\n",
    "test_confusion_matrix = np.zeros((7,7))\n",
    "test_correct = 0\n",
    "test_total = 0\n",
    "\n",
    "CNNmodel.eval()\n",
    "with torch.no_grad():\n",
    "    for b, (X_test, y_test) in enumerate(ttestt_loader):\n",
    "        y_test = y_test.to(device)\n",
    "        X_test = X_test.to(device)\n",
    "        yhat_test = CNNmodel(X_test)     \n",
    "        _, predicted = torch.max(yhat_test.data, 1)\n",
    "        test_total += y_test.size(0)  #keep track of total\n",
    "        actual = torch.argmax(y_test,1)\n",
    "        test_correct += (predicted == actual).sum().item()  #.item() give the raw number\n",
    "        test_confusion_matrix[predicted][actual] +=1\n",
    "        test_acc = 100 * (test_correct / test_total)\n",
    "        # test_loss = criterion(yhat_test, y_test)\n",
    "# test_losses.append(test_loss)\n",
    "test_accuracy.append(test_acc)"
   ]
  },
  {
   "cell_type": "code",
   "execution_count": 63,
   "id": "94ae48d7-64fe-48c7-8be5-c33186b0ff13",
   "metadata": {},
   "outputs": [
    {
     "name": "stdout",
     "output_type": "stream",
     "text": [
      "Test_Dataset_Accuracy: 21.428571428571427\n"
     ]
    }
   ],
   "source": [
    "print(f\"Test_Dataset_Accuracy: {test_accuracy[0]}\")"
   ]
  },
  {
   "cell_type": "code",
   "execution_count": 64,
   "id": "f130d4d4-a4b3-48fd-b0d7-ec6fb16206ef",
   "metadata": {},
   "outputs": [
    {
     "data": {
      "text/plain": [
       "array([[0.8, 0.9, 0.5, 0.5, 0.7, 0.5, 0.9],\n",
       "       [0. , 0. , 0. , 0. , 0. , 0. , 0. ],\n",
       "       [0. , 0. , 0.1, 0. , 0. , 0. , 0. ],\n",
       "       [0.1, 0.1, 0.2, 0.2, 0.1, 0.1, 0.1],\n",
       "       [0.1, 0. , 0. , 0.1, 0.2, 0.2, 0. ],\n",
       "       [0. , 0. , 0.1, 0.2, 0. , 0.2, 0. ],\n",
       "       [0. , 0. , 0.1, 0. , 0. , 0. , 0. ]])"
      ]
     },
     "execution_count": 64,
     "metadata": {},
     "output_type": "execute_result"
    }
   ],
   "source": [
    "test_final_matrix = test_confusion_matrix / test_confusion_matrix.sum(axis = 0)\n",
    "test_final_matrix"
   ]
  },
  {
   "cell_type": "code",
   "execution_count": 65,
   "id": "c6a3cd45-57b3-4468-b00c-3e3c0132805f",
   "metadata": {},
   "outputs": [
    {
     "name": "stderr",
     "output_type": "stream",
     "text": [
      "/tmp/ipykernel_1494/2827707624.py:7: UserWarning: FixedFormatter should only be used together with FixedLocator\n",
      "  ax.set_yticklabels(['']+target_cols)\n",
      "/tmp/ipykernel_1494/2827707624.py:8: UserWarning: FixedFormatter should only be used together with FixedLocator\n",
      "  ax.set_xticklabels(['']+target_cols, rotation=90)\n"
     ]
    },
    {
     "data": {
      "image/png": "[encoded data removed]",
      "text/plain": [
       "<Figure size 648x648 with 1 Axes>"
      ]
     },
     "metadata": {
      "needs_background": "light"
     },
     "output_type": "display_data"
    },
    {
     "data": {
      "text/plain": [
       "<Figure size 432x288 with 0 Axes>"
      ]
     },
     "metadata": {},
     "output_type": "display_data"
    }
   ],
   "source": [
    "## SHOW CONFUSION MATRIX\n",
    "\n",
    "target_cols = Y.columns.tolist()\n",
    "fig, ax = plt.subplots()\n",
    "fig.set_figheight(9)\n",
    "fig.set_figwidth(9)\n",
    "ax.set_yticklabels(['']+target_cols)\n",
    "ax.set_xticklabels(['']+target_cols, rotation=90)\n",
    "\n",
    "# Using matshow here just because it sets the ticks up nicely. imshow is faster.\n",
    "ax.matshow(test_final_matrix, cmap='YlOrRd')\n",
    "for (i, j), z in np.ndenumerate(test_final_matrix):\n",
    "    ax.text(j, i, '{:0.1f}'.format(z), ha='center', va='center')\n",
    "plt.show()\n",
    "plt.savefig(f\"Test_Confusion_matrix_{optim}_lr_{learning_rate}_model_{mo}.png\")"
   ]
  },
  {
   "cell_type": "markdown",
   "id": "032a14f7-2a5b-4802-aad2-5c7dfb66fec8",
   "metadata": {},
   "source": [
    "## ACCURACY METRICS ##"
   ]
  },
  {
   "cell_type": "markdown",
   "id": "61118b93-6ab7-434b-9e58-b19fc7290aa6",
   "metadata": {},
   "source": [
    "$$Accuracy = \\frac{TP+TN}{TP+TN+FP+FN}$$\n",
    "$$Precision = \\frac{TP}{TP+FP}$$\n",
    "$$Recall = \\frac{TP}{TP+FN}$$\n",
    "$$F1 = \\frac{2*Precision*Recall}{Precision+Recall} = \\frac{2*TP}{2*TP+FP+FN}$$"
   ]
  },
  {
   "cell_type": "code",
   "execution_count": 3,
   "id": "0dc76315-2a5c-4d72-8aba-999032fcf9c0",
   "metadata": {},
   "outputs": [
    {
     "name": "stderr",
     "output_type": "stream",
     "text": [
      "/tmp/ipykernel_315/3789938909.py:4: RuntimeWarning: invalid value encountered in true_divide\n",
      "  recall = diag_x / test_final_matrix.sum(axis=1)\n"
     ]
    }
   ],
   "source": [
    "diag_x = np.diag(test_final_matrix)\n",
    "# print(diag_x)\n",
    "precison = diag_x / test_final_matrix.sum(axis=0)\n",
    "recall = diag_x / test_final_matrix.sum(axis=1)"
   ]
  },
  {
   "cell_type": "code",
   "execution_count": 4,
   "id": "67d09858-e2c7-461f-87b3-44b4718e1e44",
   "metadata": {},
   "outputs": [
    {
     "name": "stderr",
     "output_type": "stream",
     "text": [
      "/tmp/ipykernel_315/680311890.py:1: RuntimeWarning: invalid value encountered in true_divide\n",
      "  F1 = 2*precison*recall/(precison+recall)\n"
     ]
    }
   ],
   "source": [
    "F1 = 2*precison*recall/(precison+recall)\n",
    "F1 = F1.tolist()\n",
    "precison = precison.tolist()\n",
    "recall = recall.tolist()"
   ]
  },
  {
   "cell_type": "code",
   "execution_count": 9,
   "id": "9b7986e3-39ae-455c-8521-592d14905c2d",
   "metadata": {},
   "outputs": [],
   "source": [
    "metrics = pd.DataFrame([precison, recall,F1],columns=target_cols,index=['precison', 'recall','F1'])"
   ]
  },
  {
   "cell_type": "code",
   "execution_count": 10,
   "id": "90c93e21-eb41-41fd-a8ec-f69a922f0dde",
   "metadata": {},
   "outputs": [
    {
     "data": {
      "text/html": [
       "<div>\n",
       "<style scoped>\n",
       "    .dataframe tbody tr th:only-of-type {\n",
       "        vertical-align: middle;\n",
       "    }\n",
       "\n",
       "    .dataframe tbody tr th {\n",
       "        vertical-align: top;\n",
       "    }\n",
       "\n",
       "    .dataframe thead th {\n",
       "        text-align: right;\n",
       "    }\n",
       "</style>\n",
       "<table border=\"1\" class=\"dataframe\">\n",
       "  <thead>\n",
       "    <tr style=\"text-align: right;\">\n",
       "      <th></th>\n",
       "      <th>Addictive disorder</th>\n",
       "      <th>Anxiety disorder</th>\n",
       "      <th>Healthy control</th>\n",
       "      <th>Mood disorder</th>\n",
       "      <th>Obsessive compulsive disorder</th>\n",
       "      <th>Schizophrenia</th>\n",
       "      <th>Trauma and stress related disorder</th>\n",
       "    </tr>\n",
       "  </thead>\n",
       "  <tbody>\n",
       "    <tr>\n",
       "      <th>precison</th>\n",
       "      <td>0.800000</td>\n",
       "      <td>0.0</td>\n",
       "      <td>0.100000</td>\n",
       "      <td>0.200000</td>\n",
       "      <td>0.200000</td>\n",
       "      <td>0.200000</td>\n",
       "      <td>0.0</td>\n",
       "    </tr>\n",
       "    <tr>\n",
       "      <th>recall</th>\n",
       "      <td>0.166667</td>\n",
       "      <td>NaN</td>\n",
       "      <td>1.000000</td>\n",
       "      <td>0.222222</td>\n",
       "      <td>0.333333</td>\n",
       "      <td>0.400000</td>\n",
       "      <td>0.0</td>\n",
       "    </tr>\n",
       "    <tr>\n",
       "      <th>F1</th>\n",
       "      <td>0.275862</td>\n",
       "      <td>NaN</td>\n",
       "      <td>0.181818</td>\n",
       "      <td>0.210526</td>\n",
       "      <td>0.250000</td>\n",
       "      <td>0.266667</td>\n",
       "      <td>NaN</td>\n",
       "    </tr>\n",
       "  </tbody>\n",
       "</table>\n",
       "</div>"
      ],
      "text/plain": [
       "          Addictive disorder  Anxiety disorder  Healthy control  \\\n",
       "precison            0.800000               0.0         0.100000   \n",
       "recall              0.166667               NaN         1.000000   \n",
       "F1                  0.275862               NaN         0.181818   \n",
       "\n",
       "          Mood disorder  Obsessive compulsive disorder  Schizophrenia  \\\n",
       "precison       0.200000                       0.200000       0.200000   \n",
       "recall         0.222222                       0.333333       0.400000   \n",
       "F1             0.210526                       0.250000       0.266667   \n",
       "\n",
       "          Trauma and stress related disorder  \n",
       "precison                                 0.0  \n",
       "recall                                   0.0  \n",
       "F1                                       NaN  "
      ]
     },
     "execution_count": 10,
     "metadata": {},
     "output_type": "execute_result"
    }
   ],
   "source": [
    "metrics"
   ]
  }
 ],
 "metadata": {
  "kernelspec": {
   "display_name": "Python 3.10.7 64-bit",
   "language": "python",
   "name": "python3"
  },
  "language_info": {
   "codemirror_mode": {
    "name": "ipython",
    "version": 3
   },
   "file_extension": ".py",
   "mimetype": "text/x-python",
   "name": "python",
   "nbconvert_exporter": "python",
   "pygments_lexer": "ipython3",
   "version": "3.10.7"
  },
  "vscode": {
   "interpreter": {
    "hash": "3a9409b9deca2e32b1801514822bf60b5f36ee24c0efb3dea589c0a4c1325f8a"
   }
  }
 },
 "nbformat": 4,
 "nbformat_minor": 5
}
