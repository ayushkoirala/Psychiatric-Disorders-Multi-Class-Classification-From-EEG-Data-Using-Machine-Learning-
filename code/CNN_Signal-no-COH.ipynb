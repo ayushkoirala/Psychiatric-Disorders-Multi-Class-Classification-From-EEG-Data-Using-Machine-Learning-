{
 "cells": [
  {
   "cell_type": "markdown",
   "id": "dc648747-6cdc-4aa4-b9c0-0096580ab9d5",
   "metadata": {},
   "source": [
    "## CNN USING EEG DATA WITH NO_COH feature ##\n",
    "\n",
    "In this notebook you will be able to see custom CNN model for EEG Data. Data consists of the 19 electrodes with signals of 6 frequency bands -- delta, theta, alpha, beta, highbeta and gamma."
   ]
  },
  {
   "cell_type": "code",
   "execution_count": 1,
   "id": "3e3248ed-62fb-406c-bfbe-d7b7c51333b2",
   "metadata": {},
   "outputs": [
    {
     "data": {
      "text/html": [
       "<div>\n",
       "<style scoped>\n",
       "    .dataframe tbody tr th:only-of-type {\n",
       "        vertical-align: middle;\n",
       "    }\n",
       "\n",
       "    .dataframe tbody tr th {\n",
       "        vertical-align: top;\n",
       "    }\n",
       "\n",
       "    .dataframe thead th {\n",
       "        text-align: right;\n",
       "    }\n",
       "</style>\n",
       "<table border=\"1\" class=\"dataframe\">\n",
       "  <thead>\n",
       "    <tr style=\"text-align: right;\">\n",
       "      <th></th>\n",
       "      <th>delta.FP1</th>\n",
       "      <th>delta.FP2</th>\n",
       "      <th>delta.F7</th>\n",
       "      <th>delta.F3</th>\n",
       "      <th>delta.Fz</th>\n",
       "      <th>delta.F4</th>\n",
       "      <th>delta.F8</th>\n",
       "      <th>delta.T3</th>\n",
       "      <th>delta.C3</th>\n",
       "      <th>delta.Cz</th>\n",
       "      <th>...</th>\n",
       "      <th>gamma.C4</th>\n",
       "      <th>gamma.T4</th>\n",
       "      <th>gamma.T5</th>\n",
       "      <th>gamma.P3</th>\n",
       "      <th>gamma.Pz</th>\n",
       "      <th>gamma.P4</th>\n",
       "      <th>gamma.T6</th>\n",
       "      <th>gamma.O1</th>\n",
       "      <th>gamma.O2</th>\n",
       "      <th>main.disorder</th>\n",
       "    </tr>\n",
       "  </thead>\n",
       "  <tbody>\n",
       "    <tr>\n",
       "      <th>0</th>\n",
       "      <td>13.425118</td>\n",
       "      <td>11.002916</td>\n",
       "      <td>11.942516</td>\n",
       "      <td>15.272216</td>\n",
       "      <td>14.151570</td>\n",
       "      <td>12.456034</td>\n",
       "      <td>8.436832</td>\n",
       "      <td>9.975238</td>\n",
       "      <td>14.834740</td>\n",
       "      <td>10.950564</td>\n",
       "      <td>...</td>\n",
       "      <td>0.931967</td>\n",
       "      <td>0.437117</td>\n",
       "      <td>0.930843</td>\n",
       "      <td>1.234874</td>\n",
       "      <td>1.373268</td>\n",
       "      <td>1.411808</td>\n",
       "      <td>1.140695</td>\n",
       "      <td>1.118041</td>\n",
       "      <td>3.162143</td>\n",
       "      <td>Addictive disorder</td>\n",
       "    </tr>\n",
       "    <tr>\n",
       "      <th>1</th>\n",
       "      <td>29.941780</td>\n",
       "      <td>27.544684</td>\n",
       "      <td>17.150159</td>\n",
       "      <td>23.608960</td>\n",
       "      <td>27.087811</td>\n",
       "      <td>13.541237</td>\n",
       "      <td>16.523963</td>\n",
       "      <td>12.775574</td>\n",
       "      <td>21.686306</td>\n",
       "      <td>18.367666</td>\n",
       "      <td>...</td>\n",
       "      <td>1.691152</td>\n",
       "      <td>1.505663</td>\n",
       "      <td>1.133891</td>\n",
       "      <td>1.661768</td>\n",
       "      <td>1.403429</td>\n",
       "      <td>1.349457</td>\n",
       "      <td>1.270525</td>\n",
       "      <td>1.408471</td>\n",
       "      <td>1.454618</td>\n",
       "      <td>Addictive disorder</td>\n",
       "    </tr>\n",
       "    <tr>\n",
       "      <th>2</th>\n",
       "      <td>21.496226</td>\n",
       "      <td>21.846832</td>\n",
       "      <td>17.364316</td>\n",
       "      <td>13.833701</td>\n",
       "      <td>14.100954</td>\n",
       "      <td>13.100939</td>\n",
       "      <td>14.613650</td>\n",
       "      <td>8.063191</td>\n",
       "      <td>11.015078</td>\n",
       "      <td>11.639560</td>\n",
       "      <td>...</td>\n",
       "      <td>1.122776</td>\n",
       "      <td>2.128138</td>\n",
       "      <td>1.648217</td>\n",
       "      <td>1.147666</td>\n",
       "      <td>1.049152</td>\n",
       "      <td>1.131654</td>\n",
       "      <td>1.415856</td>\n",
       "      <td>1.391048</td>\n",
       "      <td>1.527403</td>\n",
       "      <td>Addictive disorder</td>\n",
       "    </tr>\n",
       "    <tr>\n",
       "      <th>3</th>\n",
       "      <td>37.775667</td>\n",
       "      <td>33.607679</td>\n",
       "      <td>21.865556</td>\n",
       "      <td>21.771413</td>\n",
       "      <td>22.854536</td>\n",
       "      <td>21.456377</td>\n",
       "      <td>15.969042</td>\n",
       "      <td>9.434306</td>\n",
       "      <td>15.244523</td>\n",
       "      <td>17.041979</td>\n",
       "      <td>...</td>\n",
       "      <td>2.320845</td>\n",
       "      <td>3.562820</td>\n",
       "      <td>1.441662</td>\n",
       "      <td>1.018804</td>\n",
       "      <td>1.274009</td>\n",
       "      <td>2.350806</td>\n",
       "      <td>2.307730</td>\n",
       "      <td>2.129431</td>\n",
       "      <td>3.766860</td>\n",
       "      <td>Addictive disorder</td>\n",
       "    </tr>\n",
       "    <tr>\n",
       "      <th>4</th>\n",
       "      <td>13.482096</td>\n",
       "      <td>14.095855</td>\n",
       "      <td>12.854630</td>\n",
       "      <td>11.727480</td>\n",
       "      <td>13.128924</td>\n",
       "      <td>11.627138</td>\n",
       "      <td>14.978119</td>\n",
       "      <td>6.899770</td>\n",
       "      <td>9.751346</td>\n",
       "      <td>14.141171</td>\n",
       "      <td>...</td>\n",
       "      <td>2.780522</td>\n",
       "      <td>5.419482</td>\n",
       "      <td>2.587215</td>\n",
       "      <td>1.694676</td>\n",
       "      <td>1.748525</td>\n",
       "      <td>1.527331</td>\n",
       "      <td>1.664579</td>\n",
       "      <td>1.266546</td>\n",
       "      <td>1.133410</td>\n",
       "      <td>Addictive disorder</td>\n",
       "    </tr>\n",
       "  </tbody>\n",
       "</table>\n",
       "<p>5 rows × 115 columns</p>\n",
       "</div>"
      ],
      "text/plain": [
       "   delta.FP1  delta.FP2   delta.F7   delta.F3   delta.Fz   delta.F4  \\\n",
       "0  13.425118  11.002916  11.942516  15.272216  14.151570  12.456034   \n",
       "1  29.941780  27.544684  17.150159  23.608960  27.087811  13.541237   \n",
       "2  21.496226  21.846832  17.364316  13.833701  14.100954  13.100939   \n",
       "3  37.775667  33.607679  21.865556  21.771413  22.854536  21.456377   \n",
       "4  13.482096  14.095855  12.854630  11.727480  13.128924  11.627138   \n",
       "\n",
       "    delta.F8   delta.T3   delta.C3   delta.Cz  ...  gamma.C4  gamma.T4  \\\n",
       "0   8.436832   9.975238  14.834740  10.950564  ...  0.931967  0.437117   \n",
       "1  16.523963  12.775574  21.686306  18.367666  ...  1.691152  1.505663   \n",
       "2  14.613650   8.063191  11.015078  11.639560  ...  1.122776  2.128138   \n",
       "3  15.969042   9.434306  15.244523  17.041979  ...  2.320845  3.562820   \n",
       "4  14.978119   6.899770   9.751346  14.141171  ...  2.780522  5.419482   \n",
       "\n",
       "   gamma.T5  gamma.P3  gamma.Pz  gamma.P4  gamma.T6  gamma.O1  gamma.O2  \\\n",
       "0  0.930843  1.234874  1.373268  1.411808  1.140695  1.118041  3.162143   \n",
       "1  1.133891  1.661768  1.403429  1.349457  1.270525  1.408471  1.454618   \n",
       "2  1.648217  1.147666  1.049152  1.131654  1.415856  1.391048  1.527403   \n",
       "3  1.441662  1.018804  1.274009  2.350806  2.307730  2.129431  3.766860   \n",
       "4  2.587215  1.694676  1.748525  1.527331  1.664579  1.266546  1.133410   \n",
       "\n",
       "        main.disorder  \n",
       "0  Addictive disorder  \n",
       "1  Addictive disorder  \n",
       "2  Addictive disorder  \n",
       "3  Addictive disorder  \n",
       "4  Addictive disorder  \n",
       "\n",
       "[5 rows x 115 columns]"
      ]
     },
     "execution_count": 1,
     "metadata": {},
     "output_type": "execute_result"
    }
   ],
   "source": [
    "import pandas as pd\n",
    "import torch\n",
    "from torch.utils.data import Dataset, DataLoader\n",
    "import torch.nn as nn\n",
    "import numpy as np\n",
    "\n",
    "#importing final dataset prepared for training after ETA and EDA to prepare a CNN based classification model.\n",
    "\n",
    "df = pd.read_csv('./data/final_dataset_all_no_coh_train.csv')\n",
    "df.head()"
   ]
  },
  {
   "cell_type": "markdown",
   "id": "95f68ba2-de0b-4c71-aa9f-a323ee8a5ce3",
   "metadata": {},
   "source": [
    "- We have total of 115 columns in this dataset including our target `main.disorder`\n",
    "- Thus we will use 114 features to predict the main-disorder of a person"
   ]
  },
  {
   "cell_type": "markdown",
   "id": "bae74693-bf46-48e5-8528-c79fb978f161",
   "metadata": {},
   "source": [
    "## Preparing Train-Valid Data\n",
    "- Since we already have prepared the train and test data ahead to prevent the data leakage, now we will separate the train data into train-valid data.\n",
    "#### ONE HOT ENCODING FOR TARGETS ####\n",
    "- Since we have seven classes including healthy control we encoded the `target - main.disorder` with the one hot encoding.\n",
    "- This makes our y_data into shape of nx7"
   ]
  },
  {
   "cell_type": "code",
   "execution_count": 2,
   "id": "9bd83e84-94ee-478e-a62b-26cf7c577999",
   "metadata": {},
   "outputs": [
    {
     "data": {
      "text/plain": [
       "(1792,)"
      ]
     },
     "execution_count": 2,
     "metadata": {},
     "output_type": "execute_result"
    }
   ],
   "source": [
    "target = 'main.disorder'\n",
    "\n",
    "y = df[target].copy()\n",
    "y.shape"
   ]
  },
  {
   "cell_type": "code",
   "execution_count": 3,
   "id": "437834d5-345e-4f07-9299-b7d0d5c5c3f8",
   "metadata": {},
   "outputs": [
    {
     "data": {
      "text/plain": [
       "(1792, 7)"
      ]
     },
     "execution_count": 3,
     "metadata": {},
     "output_type": "execute_result"
    }
   ],
   "source": [
    "Y = pd.get_dummies(y)\n",
    "Y.shape"
   ]
  },
  {
   "cell_type": "code",
   "execution_count": 4,
   "id": "4266159d-073e-4879-9124-9be5a516541a",
   "metadata": {},
   "outputs": [
    {
     "data": {
      "text/html": [
       "<div>\n",
       "<style scoped>\n",
       "    .dataframe tbody tr th:only-of-type {\n",
       "        vertical-align: middle;\n",
       "    }\n",
       "\n",
       "    .dataframe tbody tr th {\n",
       "        vertical-align: top;\n",
       "    }\n",
       "\n",
       "    .dataframe thead th {\n",
       "        text-align: right;\n",
       "    }\n",
       "</style>\n",
       "<table border=\"1\" class=\"dataframe\">\n",
       "  <thead>\n",
       "    <tr style=\"text-align: right;\">\n",
       "      <th></th>\n",
       "      <th>Addictive disorder</th>\n",
       "      <th>Anxiety disorder</th>\n",
       "      <th>Healthy control</th>\n",
       "      <th>Mood disorder</th>\n",
       "      <th>Obsessive compulsive disorder</th>\n",
       "      <th>Schizophrenia</th>\n",
       "      <th>Trauma and stress related disorder</th>\n",
       "    </tr>\n",
       "  </thead>\n",
       "  <tbody>\n",
       "    <tr>\n",
       "      <th>0</th>\n",
       "      <td>1</td>\n",
       "      <td>0</td>\n",
       "      <td>0</td>\n",
       "      <td>0</td>\n",
       "      <td>0</td>\n",
       "      <td>0</td>\n",
       "      <td>0</td>\n",
       "    </tr>\n",
       "    <tr>\n",
       "      <th>1</th>\n",
       "      <td>1</td>\n",
       "      <td>0</td>\n",
       "      <td>0</td>\n",
       "      <td>0</td>\n",
       "      <td>0</td>\n",
       "      <td>0</td>\n",
       "      <td>0</td>\n",
       "    </tr>\n",
       "    <tr>\n",
       "      <th>2</th>\n",
       "      <td>1</td>\n",
       "      <td>0</td>\n",
       "      <td>0</td>\n",
       "      <td>0</td>\n",
       "      <td>0</td>\n",
       "      <td>0</td>\n",
       "      <td>0</td>\n",
       "    </tr>\n",
       "    <tr>\n",
       "      <th>3</th>\n",
       "      <td>1</td>\n",
       "      <td>0</td>\n",
       "      <td>0</td>\n",
       "      <td>0</td>\n",
       "      <td>0</td>\n",
       "      <td>0</td>\n",
       "      <td>0</td>\n",
       "    </tr>\n",
       "    <tr>\n",
       "      <th>4</th>\n",
       "      <td>1</td>\n",
       "      <td>0</td>\n",
       "      <td>0</td>\n",
       "      <td>0</td>\n",
       "      <td>0</td>\n",
       "      <td>0</td>\n",
       "      <td>0</td>\n",
       "    </tr>\n",
       "  </tbody>\n",
       "</table>\n",
       "</div>"
      ],
      "text/plain": [
       "   Addictive disorder  Anxiety disorder  Healthy control  Mood disorder  \\\n",
       "0                   1                 0                0              0   \n",
       "1                   1                 0                0              0   \n",
       "2                   1                 0                0              0   \n",
       "3                   1                 0                0              0   \n",
       "4                   1                 0                0              0   \n",
       "\n",
       "   Obsessive compulsive disorder  Schizophrenia  \\\n",
       "0                              0              0   \n",
       "1                              0              0   \n",
       "2                              0              0   \n",
       "3                              0              0   \n",
       "4                              0              0   \n",
       "\n",
       "   Trauma and stress related disorder  \n",
       "0                                   0  \n",
       "1                                   0  \n",
       "2                                   0  \n",
       "3                                   0  \n",
       "4                                   0  "
      ]
     },
     "execution_count": 4,
     "metadata": {},
     "output_type": "execute_result"
    }
   ],
   "source": [
    "Y.head()"
   ]
  },
  {
   "cell_type": "code",
   "execution_count": 5,
   "id": "9b6c2d7a-bfe5-4606-ae2b-8458abac3cc9",
   "metadata": {},
   "outputs": [
    {
     "data": {
      "text/plain": [
       "(1792, 114)"
      ]
     },
     "execution_count": 5,
     "metadata": {},
     "output_type": "execute_result"
    }
   ],
   "source": [
    "X = df.drop([target], axis = 1)\n",
    "X.shape"
   ]
  },
  {
   "cell_type": "code",
   "execution_count": 6,
   "id": "38c6707f-dd6b-4496-8863-1cce3e11c9ee",
   "metadata": {},
   "outputs": [
    {
     "data": {
      "text/plain": [
       "((1612, 114), (180, 114), (1612, 7), (180, 7))"
      ]
     },
     "execution_count": 6,
     "metadata": {},
     "output_type": "execute_result"
    }
   ],
   "source": [
    "from sklearn.model_selection import train_test_split\n",
    "def train_test_dataset(X,y, split):\n",
    "    X_train, X_test, y_train, y_test = train_test_split(X, y, test_size=split, random_state=42)\n",
    "    return X_train, X_test, y_train, y_test\n",
    "\n",
    "X_train, X_test, y_train, y_test = train_test_dataset(X,Y, split = 0.10)\n",
    "\n",
    "X_train.shape, X_test.shape, y_train.shape, y_test.shape"
   ]
  },
  {
   "cell_type": "markdown",
   "id": "27167d0f-e716-4615-80da-7731de7f03fa",
   "metadata": {},
   "source": [
    "### This is the shape of our final train and valid data ###\n",
    "\n",
    "- Below this cell we tried to make sure that all the classes are included in our train and valid dataset"
   ]
  },
  {
   "cell_type": "code",
   "execution_count": 7,
   "id": "fd5b6e8e-802c-4e5b-84d8-ac7294e0f3ba",
   "metadata": {},
   "outputs": [
    {
     "data": {
      "text/plain": [
       "(Addictive disorder                    25\n",
       " Anxiety disorder                      23\n",
       " Healthy control                       19\n",
       " Mood disorder                         34\n",
       " Obsessive compulsive disorder         28\n",
       " Schizophrenia                         26\n",
       " Trauma and stress related disorder    25\n",
       " dtype: int64,\n",
       " Addictive disorder                    231\n",
       " Anxiety disorder                      233\n",
       " Healthy control                       237\n",
       " Mood disorder                         222\n",
       " Obsessive compulsive disorder         228\n",
       " Schizophrenia                         230\n",
       " Trauma and stress related disorder    231\n",
       " dtype: int64)"
      ]
     },
     "execution_count": 7,
     "metadata": {},
     "output_type": "execute_result"
    }
   ],
   "source": [
    "# Make sure that in 10% split we will have all the classes in valid and train set.\n",
    "\n",
    "assert len(y_test.sum(axis=0)) == len(y_train.sum(axis=0))\n",
    "y_test.sum(axis=0), y_train.sum(axis=0)"
   ]
  },
  {
   "cell_type": "markdown",
   "id": "e42e80b2-3795-4867-8735-13304d46f2a5",
   "metadata": {},
   "source": [
    "## USING MINMAX NORMALIZATION FOR THE SIGNAL DATA ##\n",
    "\n",
    "$$ m = \\frac{(x -xmin)}{(xmax -xmin)} $$"
   ]
  },
  {
   "cell_type": "code",
   "execution_count": 8,
   "id": "64e79c64-3c44-46f1-a4fe-9739a5efd534",
   "metadata": {},
   "outputs": [],
   "source": [
    "#using sklearn for preprocessing\n",
    "from sklearn.preprocessing import MinMaxScaler\n",
    "\n",
    "scaler = MinMaxScaler()\n",
    "X_train = pd.DataFrame(scaler.fit_transform(X_train),columns=X.columns)\n",
    "X_test = pd.DataFrame(scaler.transform(X_test),columns=X.columns)"
   ]
  },
  {
   "cell_type": "markdown",
   "id": "dd4747f0-d9e3-4e96-a880-6c5044067db9",
   "metadata": {},
   "source": [
    "### Prepare custom dataset to load the data in dataloader for pytorch approarch ###"
   ]
  },
  {
   "cell_type": "code",
   "execution_count": 9,
   "id": "7ddd0d8b-0f3f-4fd3-bd93-4e45b9d6233b",
   "metadata": {},
   "outputs": [],
   "source": [
    "#Prepare manual dataset that will return target and features to our model\n",
    "torch.manual_seed(555)\n",
    "datasets = {}\n",
    "class EEGDataset(Dataset):\n",
    "    def __init__(self, X,y):\n",
    "        self.X = torch.tensor(X.values)\n",
    "        self.y = torch.tensor(y.values)\n",
    "\n",
    "    def __getitem__(self, idx):\n",
    "        preds = self.X[idx].float()\n",
    "        trgts = self.y[idx].float()\n",
    "        \n",
    "        return preds, trgts\n",
    "\n",
    "    def __len__(self):\n",
    "        return len(self.X)\n",
    "\n",
    "datasets['train'] = EEGDataset(X_train,y_train)\n",
    "datasets['test'] = EEGDataset(X_test,y_test)"
   ]
  },
  {
   "cell_type": "code",
   "execution_count": 10,
   "id": "a4dd0146-fc7b-48e9-b95a-6488cd9f4aef",
   "metadata": {},
   "outputs": [
    {
     "data": {
      "text/plain": [
       "((tensor([0.2259, 0.2559, 0.3242, 0.2796, 0.2551, 0.3591, 0.3107, 0.2226, 0.3444,\n",
       "          0.2512, 0.3456, 0.3165, 0.2525, 0.3528, 0.1686, 0.3214, 0.2196, 0.1538,\n",
       "          0.2067, 0.0593, 0.0652, 0.0744, 0.0737, 0.0763, 0.0793, 0.0755, 0.0481,\n",
       "          0.0780, 0.0886, 0.0877, 0.0850, 0.0527, 0.0687, 0.0489, 0.0816, 0.0692,\n",
       "          0.0253, 0.0578, 0.0351, 0.0393, 0.0354, 0.0245, 0.0334, 0.0253, 0.0304,\n",
       "          0.0214, 0.0178, 0.0182, 0.0206, 0.0367, 0.0161, 0.0120, 0.0101, 0.0198,\n",
       "          0.0206, 0.0105, 0.0118, 0.4080, 0.4028, 0.3024, 0.3488, 0.4091, 0.3877,\n",
       "          0.3765, 0.1671, 0.2988, 0.1999, 0.2712, 0.2659, 0.2227, 0.1950, 0.1236,\n",
       "          0.1670, 0.1831, 0.1019, 0.1107, 0.6589, 0.4787, 0.4889, 0.4419, 0.6868,\n",
       "          0.7083, 0.4872, 0.2284, 0.4569, 0.9553, 0.3211, 0.4261, 0.2748, 0.8509,\n",
       "          0.7703, 0.9092, 0.5262, 0.1656, 0.1422, 0.4260, 0.3564, 0.2897, 0.2461,\n",
       "          0.5579, 0.5248, 0.2326, 0.1029, 0.2230, 0.4399, 0.1366, 0.1991, 0.1287,\n",
       "          0.3608, 0.3175, 0.3880, 0.3721, 0.0822, 0.0904]),\n",
       "  tensor([0., 1., 0., 0., 0., 0., 0.])),\n",
       " (tensor([0.0978, 0.1014, 0.0635, 0.0998, 0.0922, 0.1248, 0.1315, 0.0371, 0.1341,\n",
       "          0.1226, 0.1486, 0.0932, 0.0720, 0.0827, 0.1353, 0.0902, 0.1271, 0.0795,\n",
       "          0.0763, 0.0320, 0.0407, 0.0179, 0.0383, 0.0422, 0.0478, 0.0465, 0.0135,\n",
       "          0.0428, 0.0543, 0.0522, 0.0395, 0.0254, 0.0535, 0.0653, 0.0623, 0.0565,\n",
       "          0.0330, 0.0584, 0.1115, 0.1213, 0.0609, 0.0644, 0.0948, 0.0778, 0.0779,\n",
       "          0.0268, 0.0543, 0.0694, 0.0836, 0.0757, 0.0936, 0.1531, 0.2071, 0.2983,\n",
       "          0.2959, 0.4094, 0.3366, 0.2161, 0.2240, 0.1864, 0.1938, 0.2202, 0.2074,\n",
       "          0.2227, 0.0623, 0.1713, 0.1305, 0.1634, 0.1288, 0.1383, 0.2100, 0.1719,\n",
       "          0.1410, 0.1734, 0.2041, 0.1744, 0.0784, 0.0639, 0.2021, 0.0891, 0.0888,\n",
       "          0.0937, 0.0693, 0.0320, 0.0528, 0.1140, 0.0376, 0.0525, 0.0510, 0.1537,\n",
       "          0.1500, 0.1487, 0.1215, 0.1077, 0.0920, 0.0713, 0.0572, 0.2150, 0.0730,\n",
       "          0.0854, 0.0856, 0.0421, 0.0336, 0.0519, 0.0937, 0.0281, 0.0373, 0.0436,\n",
       "          0.1121, 0.1066, 0.1161, 0.1275, 0.0984, 0.1237]),\n",
       "  tensor([0., 0., 0., 1., 0., 0., 0.])))"
      ]
     },
     "execution_count": 10,
     "metadata": {},
     "output_type": "execute_result"
    }
   ],
   "source": [
    "datasets['train'][0], datasets['test'][0]"
   ]
  },
  {
   "cell_type": "code",
   "execution_count": 11,
   "id": "626a1f92-9084-43c1-a5ab-f9085f707815",
   "metadata": {},
   "outputs": [],
   "source": [
    "#Add data to train and test loader\n",
    "#We didnt use the batch size since we have few data that our memory can handle\n",
    "#Try using batch size if your dataset is very huge\n",
    "\n",
    "train_loader = DataLoader(datasets['train'], shuffle=True)\n",
    "test_loader = DataLoader(datasets['test'],shuffle=True)"
   ]
  },
  {
   "cell_type": "code",
   "execution_count": 12,
   "id": "195f6539-c11c-4d83-8cf2-060b40ff3e4a",
   "metadata": {},
   "outputs": [
    {
     "name": "stdout",
     "output_type": "stream",
     "text": [
      "tensor([[0.0635, 0.0981, 0.0942, 0.0907, 0.0818, 0.0959, 0.1697, 0.0883, 0.1827,\n",
      "         0.1233, 0.2363, 0.1146, 0.1480, 0.1516, 0.2569, 0.1523, 0.0561, 0.3166,\n",
      "         0.1016, 0.0353, 0.0424, 0.0374, 0.0448, 0.0458, 0.0409, 0.0461, 0.0288,\n",
      "         0.0605, 0.0650, 0.0658, 0.0289, 0.0316, 0.0532, 0.1054, 0.0611, 0.0197,\n",
      "         0.0402, 0.0352, 0.1324, 0.1288, 0.1134, 0.0957, 0.1202, 0.0889, 0.0922,\n",
      "         0.0730, 0.0881, 0.0928, 0.0756, 0.0611, 0.0500, 0.0677, 0.0950, 0.0920,\n",
      "         0.0487, 0.1237, 0.0886, 0.2250, 0.1950, 0.1358, 0.1672, 0.1937, 0.1719,\n",
      "         0.1872, 0.1408, 0.2247, 0.1472, 0.1928, 0.1068, 0.2156, 0.2298, 0.2341,\n",
      "         0.1637, 0.0997, 0.2369, 0.1413, 0.0794, 0.0537, 0.0559, 0.0439, 0.0659,\n",
      "         0.0635, 0.0577, 0.0537, 0.0586, 0.1111, 0.0403, 0.0488, 0.0536, 0.1407,\n",
      "         0.1877, 0.1409, 0.0540, 0.0470, 0.0250, 0.0450, 0.0334, 0.0264, 0.0198,\n",
      "         0.0404, 0.0400, 0.0254, 0.0206, 0.0265, 0.0469, 0.0160, 0.0220, 0.0219,\n",
      "         0.0523, 0.0587, 0.0503, 0.0358, 0.0191, 0.0137]])\n",
      "tensor([[0., 0., 0., 0., 0., 0., 1.]])\n"
     ]
    }
   ],
   "source": [
    "#Check data in dataloader\n",
    "for X, y in train_loader:\n",
    "    print(X)\n",
    "    print(y)\n",
    "    break"
   ]
  },
  {
   "cell_type": "code",
   "execution_count": 13,
   "id": "71301013-8f83-4659-8ccb-122577f456d7",
   "metadata": {},
   "outputs": [
    {
     "name": "stdout",
     "output_type": "stream",
     "text": [
      "Number of training samples:  1612\n",
      "Number of testing samples:  180\n"
     ]
    }
   ],
   "source": [
    "print(\"Number of training samples: \",len(datasets['train']))\n",
    "print(\"Number of testing samples: \",len(datasets['test']))"
   ]
  },
  {
   "cell_type": "code",
   "execution_count": 14,
   "id": "768aa471-481e-4860-a592-e72cd81f7851",
   "metadata": {},
   "outputs": [],
   "source": [
    "#function to find the parameters of the network\n",
    "def count_parameters(model):\n",
    "    params = [p.numel() for p in model.parameters() if p.requires_grad]\n",
    "    for item in params:\n",
    "        print(f'{item:>6}')\n",
    "    print(f'______\\n{sum(params):>6}')"
   ]
  },
  {
   "cell_type": "code",
   "execution_count": 15,
   "id": "7a9b7253-55bc-48e7-a195-61c415ae5168",
   "metadata": {},
   "outputs": [],
   "source": [
    "#Small Network with fewer hidden layers\n",
    "class eegConv1d(nn.Module):\n",
    "    def __init__(self, input_size = 1, hidden_size=32, out_size=7):\n",
    "        super().__init__()\n",
    "        self.conv1d   = nn.Conv1d(input_size, hidden_size, kernel_size = 3,stride =1)\n",
    "        # nn.init.normal_(self.conv1d.weight, mean=0.0, std=1)  #Use this if you want to initialize your weight with normal distribution\n",
    "        self.linear = nn.Linear(3584, out_size) \n",
    "        \n",
    "    def forward(self, seq):\n",
    "        #seq = seq.unsqueeze(dim=0)\n",
    "        out = self.conv1d(seq) \n",
    "        out = out.reshape(-1,3584)\n",
    "        out = self.linear(out)\n",
    "        return out  "
   ]
  },
  {
   "cell_type": "code",
   "execution_count": 16,
   "id": "d946378a-ae8a-41b8-aa08-38ca8b922965",
   "metadata": {},
   "outputs": [],
   "source": [
    "class CNN(nn.Module):\n",
    "    def __init__(self):\n",
    "        super().__init__()\n",
    "        self.conv1 = nn.Conv1d(1,64,6,stride = 1)\n",
    "        # nn.init.normal_(self.conv1.weight, mean=0.0, std=1)\n",
    "        self.conv2 = nn.Conv1d(64,8,6,stride = 1)\n",
    "        # nn.init.normal_(self.conv2.weight, mean=0.0, std=1)\n",
    "        self.linear1 = nn.Linear(832,128) \n",
    "        self.linear2 = nn.Linear(128, 7)\n",
    "        self.leakyrelu = nn.LeakyReLU()\n",
    "        self.dropout = nn.Dropout(p = 0.25)\n",
    "    def forward(self, X):\n",
    "        #X = X.unsqueeze(dim=0)  #Use this if you have dimension problem\n",
    "        X = self.leakyrelu(self.conv1(X))\n",
    "        X = self.leakyrelu(self.conv2(X)) \n",
    "#         X = self.dropout(X) #Use dropout if you have to decrease the no. of hidden sizes in hidden layer\n",
    "#         X = self.dropout(X)\n",
    "        X = X.view(-1, 832)\n",
    "        X = self.leakyrelu(self.linear1(X))\n",
    "        X = self.dropout(X)\n",
    "        X = self.leakyrelu(self.linear2(X))\n",
    "\n",
    "        return X"
   ]
  },
  {
   "cell_type": "code",
   "execution_count": 17,
   "id": "1543d788-3cd6-4b62-a3b3-385be39ec78b",
   "metadata": {},
   "outputs": [
    {
     "name": "stdout",
     "output_type": "stream",
     "text": [
      "Small Model parameters\n",
      "    96\n",
      "    32\n",
      " 25088\n",
      "     7\n",
      "______\n",
      " 25223\n"
     ]
    }
   ],
   "source": [
    "#Send model to device- Use cuda if available for high computation power\n",
    "\n",
    "device = torch.device('cuda:2')\n",
    "CNNmodel_s  = eegConv1d().to(device)\n",
    "print(\"Small Model parameters\")\n",
    "count_parameters(CNNmodel_s)"
   ]
  },
  {
   "cell_type": "code",
   "execution_count": 18,
   "id": "2fdc24b3-6daf-4c7f-afae-dfa3c5aa5dff",
   "metadata": {},
   "outputs": [
    {
     "name": "stdout",
     "output_type": "stream",
     "text": [
      "Large Model parameters\n",
      "   384\n",
      "    64\n",
      "  3072\n",
      "     8\n",
      "106496\n",
      "   128\n",
      "   896\n",
      "     7\n",
      "______\n",
      "111055\n"
     ]
    }
   ],
   "source": [
    "#Send model to device- Use cuda if available for high computation power\n",
    "\n",
    "CNNmodel_l  = CNN().to(device)\n",
    "print(\"Large Model parameters\")\n",
    "count_parameters(CNNmodel_l)"
   ]
  },
  {
   "cell_type": "markdown",
   "id": "f769de00-7045-46dd-8bf0-a0adf317b82a",
   "metadata": {},
   "source": [
    "## SELECT FROM THE ABOVE MODELs FOR TRAINING ##"
   ]
  },
  {
   "cell_type": "code",
   "execution_count": 19,
   "id": "ebd0952d-446e-48bf-9d6f-86011de881f8",
   "metadata": {},
   "outputs": [
    {
     "name": "stdout",
     "output_type": "stream",
     "text": [
      "Please select from above models... 0 for simple model, 1 for deep model\n"
     ]
    },
    {
     "name": "stdout",
     "output_type": "stream",
     "text": [
      " 1\n"
     ]
    }
   ],
   "source": [
    "print(\"Please select from above models... 0 for simple model, 1 for deep model\")\n",
    "mod = int(input())\n",
    "if mod == 0:\n",
    "    CNNmodel = CNNmodel_s\n",
    "    mo = \"Simple\"\n",
    "elif mod == 1:\n",
    "    CNNmodel = CNNmodel_l\n",
    "    mo = \"Deep\""
   ]
  },
  {
   "cell_type": "code",
   "execution_count": 20,
   "id": "3deaee35-a5ee-4bac-8a26-76e57c1c4672",
   "metadata": {},
   "outputs": [
    {
     "data": {
      "text/plain": [
       "CNN(\n",
       "  (conv1): Conv1d(1, 64, kernel_size=(6,), stride=(1,))\n",
       "  (conv2): Conv1d(64, 8, kernel_size=(6,), stride=(1,))\n",
       "  (linear1): Linear(in_features=832, out_features=128, bias=True)\n",
       "  (linear2): Linear(in_features=128, out_features=7, bias=True)\n",
       "  (leakyrelu): LeakyReLU(negative_slope=0.01)\n",
       "  (dropout): Dropout(p=0.25, inplace=False)\n",
       ")"
      ]
     },
     "execution_count": 20,
     "metadata": {},
     "output_type": "execute_result"
    }
   ],
   "source": [
    "# Model you selected\n",
    "CNNmodel"
   ]
  },
  {
   "cell_type": "markdown",
   "id": "c93e54ba-3b5a-4963-a0ab-98b012afc190",
   "metadata": {},
   "source": [
    "### SELECT OPTIMIZER, LEARNING RATES AND OTHER HYPERPARAMS FOR TRAINING ###"
   ]
  },
  {
   "cell_type": "code",
   "execution_count": 21,
   "id": "74f4e638-f3f2-4f58-99fe-e72ba54b3a47",
   "metadata": {},
   "outputs": [
    {
     "name": "stdout",
     "output_type": "stream",
     "text": [
      "Choose optimizer. Enter 0 for Adam and 1 for SGD\n"
     ]
    },
    {
     "name": "stdout",
     "output_type": "stream",
     "text": [
      " 0\n"
     ]
    },
    {
     "name": "stdout",
     "output_type": "stream",
     "text": [
      "Enter the learning rate\n"
     ]
    },
    {
     "name": "stdout",
     "output_type": "stream",
     "text": [
      " 0.00032\n"
     ]
    }
   ],
   "source": [
    "criterion = nn.CrossEntropyLoss()\n",
    "print(\"Choose optimizer. Enter 0 for Adam and 1 for SGD\")\n",
    "op = input()\n",
    "if int(op) == 0:\n",
    "    optim = 'ADAM'\n",
    "    print(\"Enter the learning rate\")\n",
    "    learning_rate = float(input())\n",
    "    optimizer = torch.optim.Adam(CNNmodel.parameters(), lr=learning_rate)\n",
    "    \n",
    "elif int(op) == 1:\n",
    "    optim = 'SGD'\n",
    "    print(\"Enter the learning rate\")\n",
    "    learning_rate = float(input())\n",
    "    print(\"Enter the momentum value.. (0-1)\")\n",
    "    m = float(input())\n",
    "    optimizer = torch.optim.SGD(CNNmodel.parameters(), lr=learning_rate, momentum = m)"
   ]
  },
  {
   "cell_type": "code",
   "execution_count": 22,
   "id": "e9fdf5b4-ddc4-476d-bcc1-f81647da8e54",
   "metadata": {},
   "outputs": [
    {
     "data": {
      "text/plain": [
       "(Adam (\n",
       " Parameter Group 0\n",
       "     amsgrad: False\n",
       "     betas: (0.9, 0.999)\n",
       "     capturable: False\n",
       "     differentiable: False\n",
       "     eps: 1e-08\n",
       "     foreach: None\n",
       "     fused: False\n",
       "     lr: 0.00032\n",
       "     maximize: False\n",
       "     weight_decay: 0\n",
       " ),\n",
       " CrossEntropyLoss())"
      ]
     },
     "execution_count": 22,
     "metadata": {},
     "output_type": "execute_result"
    }
   ],
   "source": [
    "optimizer, criterion"
   ]
  },
  {
   "cell_type": "code",
   "execution_count": 23,
   "id": "7a157346-cd8f-4c7b-b8f3-3679446269af",
   "metadata": {},
   "outputs": [
    {
     "data": {
      "text/plain": [
       "CNN(\n",
       "  (conv1): Conv1d(1, 64, kernel_size=(6,), stride=(1,))\n",
       "  (conv2): Conv1d(64, 8, kernel_size=(6,), stride=(1,))\n",
       "  (linear1): Linear(in_features=832, out_features=128, bias=True)\n",
       "  (linear2): Linear(in_features=128, out_features=7, bias=True)\n",
       "  (leakyrelu): LeakyReLU(negative_slope=0.01)\n",
       "  (dropout): Dropout(p=0.25, inplace=False)\n",
       ")"
      ]
     },
     "execution_count": 23,
     "metadata": {},
     "output_type": "execute_result"
    }
   ],
   "source": [
    "CNNmodel"
   ]
  },
  {
   "cell_type": "markdown",
   "id": "3d0b6fbe-46ff-41c5-b7a5-b4a7e0a3a2ce",
   "metadata": {},
   "source": [
    "## TRAINING AND VALIDATION ##"
   ]
  },
  {
   "cell_type": "code",
   "execution_count": 24,
   "id": "dc242495-014e-42db-a3d2-242bc18eb3d7",
   "metadata": {},
   "outputs": [
    {
     "name": "stdout",
     "output_type": "stream",
     "text": [
      "Epoch 0 train_loss:     1.954 train_acc:   15.9429 val_acc:     11.667 val_loss:    1.9525\n",
      "Epoch 1 train_loss:     1.982 train_acc:   18.3002 val_acc:     14.444 val_loss:    1.9790\n",
      "Epoch 2 train_loss:     1.944 train_acc:   19.8511 val_acc:     15.000 val_loss:    1.9413\n",
      "Epoch 3 train_loss:     1.994 train_acc:   19.2308 val_acc:     20.000 val_loss:    2.0354\n",
      "Epoch 4 train_loss:     1.987 train_acc:   24.4417 val_acc:     21.111 val_loss:    2.2717\n",
      "Epoch 5 train_loss:     2.224 train_acc:   25.6824 val_acc:     23.333 val_loss:    2.3038\n",
      "Epoch 6 train_loss:     1.750 train_acc:   28.7221 val_acc:     31.667 val_loss:    1.8945\n",
      "Epoch 7 train_loss:     2.370 train_acc:   31.2655 val_acc:     30.556 val_loss:    1.9461\n",
      "Epoch 8 train_loss:     1.154 train_acc:   35.8561 val_acc:     28.333 val_loss:    0.7884\n",
      "Epoch 9 train_loss:     1.331 train_acc:   41.5012 val_acc:     35.556 val_loss:    3.3725\n",
      "Epoch 10 train_loss:     1.044 train_acc:   44.0447 val_acc:     40.000 val_loss:    1.6664\n",
      "Epoch 11 train_loss:     3.957 train_acc:   48.3871 val_acc:     37.222 val_loss:    1.7892\n",
      "Epoch 12 train_loss:     0.000 train_acc:   52.0471 val_acc:     41.111 val_loss:    2.1101\n",
      "Epoch 13 train_loss:     1.428 train_acc:   54.3424 val_acc:     46.667 val_loss:    2.1356\n",
      "Epoch 14 train_loss:     1.910 train_acc:   59.1191 val_acc:     45.000 val_loss:    1.2357\n",
      "Epoch 15 train_loss:     0.831 train_acc:   61.9727 val_acc:     47.222 val_loss:    0.2890\n",
      "Epoch 16 train_loss:     1.621 train_acc:   65.6948 val_acc:     50.000 val_loss:    4.4148\n",
      "Epoch 17 train_loss:     0.491 train_acc:   68.6104 val_acc:     55.000 val_loss:    2.5121\n",
      "Epoch 18 train_loss:     0.233 train_acc:   70.0372 val_acc:     52.778 val_loss:    0.2597\n",
      "Epoch 19 train_loss:     0.131 train_acc:   72.5806 val_acc:     56.111 val_loss:    1.0062\n",
      "Epoch 20 train_loss:     0.345 train_acc:   75.8065 val_acc:     51.111 val_loss:    3.3564\n",
      "Epoch 21 train_loss:     0.029 train_acc:   75.2481 val_acc:     53.333 val_loss:    2.2797\n",
      "Epoch 22 train_loss:     0.003 train_acc:   77.9777 val_acc:     52.222 val_loss:    2.5220\n",
      "Epoch 23 train_loss:     3.994 train_acc:   79.7767 val_acc:     57.222 val_loss:    0.0998\n",
      "Epoch 24 train_loss:     0.121 train_acc:   81.8238 val_acc:     56.111 val_loss:    0.0056\n",
      "Epoch 25 train_loss:     0.608 train_acc:   82.1340 val_acc:     58.889 val_loss:    2.5625\n",
      "Epoch 26 train_loss:     0.046 train_acc:   83.1886 val_acc:     56.667 val_loss:    0.0513\n",
      "Epoch 27 train_loss:     0.224 train_acc:   84.8635 val_acc:     56.111 val_loss:    3.9515\n",
      "Epoch 28 train_loss:     0.011 train_acc:   84.1811 val_acc:     57.778 val_loss:    1.0229\n",
      "Epoch 29 train_loss:     0.244 train_acc:   86.1042 val_acc:     62.778 val_loss:    1.9244\n",
      "Epoch 30 train_loss:     0.157 train_acc:   86.1042 val_acc:     58.889 val_loss:    0.1793\n",
      "Epoch 31 train_loss:     0.202 train_acc:   88.4615 val_acc:     57.222 val_loss:    5.3183\n",
      "Epoch 32 train_loss:     3.289 train_acc:   88.5236 val_acc:     62.222 val_loss:    0.1311\n",
      "Epoch 33 train_loss:     0.058 train_acc:   90.0744 val_acc:     64.444 val_loss:    0.0059\n",
      "Epoch 34 train_loss:     0.721 train_acc:   88.6476 val_acc:     63.333 val_loss:    0.0013\n",
      "Epoch 35 train_loss:     0.039 train_acc:   89.5782 val_acc:     65.556 val_loss:    4.0048\n",
      "Epoch 36 train_loss:     0.219 train_acc:   91.3772 val_acc:     65.000 val_loss:    2.9522\n",
      "Epoch 37 train_loss:     0.010 train_acc:   90.9429 val_acc:     62.222 val_loss:    0.0417\n",
      "Epoch 38 train_loss:     0.001 train_acc:   91.1911 val_acc:     62.778 val_loss:    0.0088\n",
      "Epoch 39 train_loss:     0.024 train_acc:   91.9975 val_acc:     60.556 val_loss:    2.4046\n",
      "Epoch 40 train_loss:     0.001 train_acc:   92.8660 val_acc:     61.111 val_loss:    0.0005\n",
      "Epoch 41 train_loss:     0.004 train_acc:   92.3697 val_acc:     61.667 val_loss:    3.5069\n",
      "Epoch 42 train_loss:     0.004 train_acc:   92.3697 val_acc:     65.000 val_loss:    0.0232\n",
      "Epoch 43 train_loss:     0.001 train_acc:   94.1067 val_acc:     63.889 val_loss:    0.0059\n",
      "Epoch 44 train_loss:     0.004 train_acc:   92.9901 val_acc:     61.667 val_loss:    0.0002\n",
      "Epoch 45 train_loss:     0.001 train_acc:   93.6725 val_acc:     63.889 val_loss:    0.2001\n",
      "Epoch 46 train_loss:     0.000 train_acc:   94.5409 val_acc:     64.444 val_loss:    0.0420\n",
      "Epoch 47 train_loss:     0.032 train_acc:   94.5409 val_acc:     64.444 val_loss:   -0.0000\n",
      "Epoch 48 train_loss:     0.000 train_acc:   94.4169 val_acc:     66.111 val_loss:    9.3391\n",
      "Epoch 49 train_loss:     0.356 train_acc:   94.6030 val_acc:     63.889 val_loss:    0.0003\n",
      "Epoch 50 train_loss:     0.000 train_acc:   95.0993 val_acc:     66.111 val_loss:    7.3508\n",
      "Epoch 51 train_loss:     0.000 train_acc:   94.1687 val_acc:     70.000 val_loss:    0.0418\n",
      "Epoch 52 train_loss:     0.000 train_acc:   95.2233 val_acc:     64.444 val_loss:    5.8717\n",
      "Epoch 53 train_loss:     0.053 train_acc:   96.2779 val_acc:     66.111 val_loss:   18.5215\n",
      "Epoch 54 train_loss:     0.001 train_acc:   95.7196 val_acc:     64.444 val_loss:    0.0026\n",
      "Epoch 55 train_loss:     0.051 train_acc:   95.4094 val_acc:     67.778 val_loss:    0.0000\n",
      "Epoch 56 train_loss:     0.008 train_acc:   95.7816 val_acc:     69.444 val_loss:    0.0000\n",
      "Epoch 57 train_loss:     0.000 train_acc:   96.8362 val_acc:     67.778 val_loss:    7.6265\n",
      ".................Early stoping....................at Epoch :58\n",
      "[[18.  2.  2.  8.  0.  0.  0.]\n",
      " [ 0. 14.  0.  3.  0.  1.  1.]\n",
      " [ 3.  1. 16.  3.  1.  2.  2.]\n",
      " [ 2.  6.  0. 12.  0.  0.  4.]\n",
      " [ 0.  0.  0.  0. 27.  0.  0.]\n",
      " [ 1.  0.  0.  6.  0. 20.  3.]\n",
      " [ 1.  0.  1.  2.  0.  3. 15.]]\n"
     ]
    }
   ],
   "source": [
    "import time\n",
    "\n",
    "epochs = 100\n",
    "\n",
    "train_losses = []\n",
    "val_losses = []\n",
    "train_accuracy = []\n",
    "val_accuracy = []\n",
    "best_val_loss = 10\n",
    "early_stoping = False\n",
    "j=0\n",
    "\n",
    "\n",
    "for i in range(epochs):\n",
    "    start_time = time.time()\n",
    "    confusion_matrix = np.zeros((7,7))\n",
    "    train_correct = 0\n",
    "    train_total = 0\n",
    "    val_total   = 0  \n",
    "    train_acc   = 0\n",
    "    val_acc     = 0\n",
    "    val_correct = 0\n",
    "    CNNmodel.train()\n",
    "    for X_train, y_train in train_loader:\n",
    "        y_train = y_train.to(device)\n",
    "        X_train = X_train.to(device)\n",
    "        y_pred = CNNmodel(X_train)\n",
    "        predicted = torch.max(y_pred, 1)[1]\n",
    "        train_total += y_train.size(0)\n",
    "        train_correct += (predicted == torch.argmax(y_train,1)).sum().item()\n",
    "        train_acc = 100 * (train_correct / train_total)\n",
    "        train_loss = criterion(y_pred, y_train)\n",
    "        optimizer.zero_grad()\n",
    "        train_loss.backward()\n",
    "        optimizer.step()\n",
    "    train_losses.append(train_loss)\n",
    "    train_accuracy.append(train_acc)\n",
    "    \n",
    "    # Run the validation batches\n",
    "    with torch.no_grad():\n",
    "        for b, (X_val, y_val) in enumerate(test_loader):\n",
    "            y_val = y_val.to(device)\n",
    "            X_val = X_val.to(device)\n",
    "            yhat_val = CNNmodel(X_val)     \n",
    "            _, predicted = torch.max(yhat_val.data, 1)\n",
    "            val_total += y_val.size(0)  #keep track of total\n",
    "            actual = torch.argmax(y_val,1)\n",
    "            val_correct += (predicted == actual).sum().item()  #.item() give the raw number\n",
    "            confusion_matrix[predicted][actual] +=1\n",
    "            val_acc = 100 * (val_correct / val_total)\n",
    "            val_loss = criterion(yhat_val, y_val)\n",
    "    val_losses.append(val_loss)\n",
    "    val_accuracy.append(val_acc)\n",
    "    end_time = time.time()\n",
    "    print(f\"Epoch {i} train_loss:{train_loss:10.3f} train_acc:{train_acc:10.4f} val_acc: {val_acc:10.3f} val_loss:{val_loss:10.4f}\")\n",
    "     \n",
    "    if val_loss > best_val_loss:\n",
    "        j = j+1\n",
    "        if j==10:\n",
    "            print(f\".................Early stoping....................at Epoch :{i+1}\" )\n",
    "            print(confusion_matrix)\n",
    "            break\n",
    "    elif best_val_loss>val_loss:\n",
    "        j = 0\n",
    "        best_val_loss = val_loss\n",
    "        xyz = 'models/no_COH_epoch_' + str(i) + '_model_' + str(mo) +'_' +str(optim) + '.pth.tar'\n",
    "        torch.save(CNNmodel.state_dict(), xyz)"
   ]
  },
  {
   "cell_type": "code",
   "execution_count": 25,
   "id": "dd4096ff-4fbd-435c-8441-bc064e472f34",
   "metadata": {},
   "outputs": [
    {
     "data": {
      "text/plain": [
       "1.9524716138839722"
      ]
     },
     "execution_count": 25,
     "metadata": {},
     "output_type": "execute_result"
    }
   ],
   "source": [
    "val_losses[0].item()"
   ]
  },
  {
   "cell_type": "code",
   "execution_count": 26,
   "id": "56d9e5c8-1f16-42ca-88cb-88259c1b7f16",
   "metadata": {},
   "outputs": [],
   "source": [
    "train_losses = [tensor.item() for tensor in train_losses]\n",
    "val_losses = [tensor.item() for tensor in val_losses]"
   ]
  },
  {
   "cell_type": "markdown",
   "id": "4c4f2665-51c1-4690-9e25-6ca521a81ba8",
   "metadata": {},
   "source": [
    "### VALIDATION AND TRAINING LOSS COMPARISION ###"
   ]
  },
  {
   "cell_type": "code",
   "execution_count": 27,
   "id": "8096ec52-e644-439f-85cc-893072089e64",
   "metadata": {},
   "outputs": [
    {
     "data": {
      "image/png": "[encoded data removed]",
      "text/plain": [
       "<Figure size 432x288 with 1 Axes>"
      ]
     },
     "metadata": {
      "needs_background": "light"
     },
     "output_type": "display_data"
    }
   ],
   "source": [
    "import matplotlib.pyplot as plt\n",
    "plt.plot(train_losses, label='training loss')\n",
    "plt.plot(val_losses, label='Validation loss')\n",
    "plt.title('Loss at the end of each epoch')\n",
    "plt.legend();\n",
    "# plt.ylim(0,2)\n",
    "plt.savefig(f\"Loss_comparision_{optim}_lr_{learning_rate}_model_{mo}_no_COH.png\")"
   ]
  },
  {
   "cell_type": "markdown",
   "id": "f5b0a823-bb0b-45dc-b36d-7f04c05ea343",
   "metadata": {},
   "source": [
    "### VALIDATION AND TRAINING ACCURACY COMPARISION ###"
   ]
  },
  {
   "cell_type": "code",
   "execution_count": 28,
   "id": "1a60d87d-6863-4a0f-94bb-e23cada9fc7f",
   "metadata": {},
   "outputs": [
    {
     "data": {
      "image/png": "[encoded data removed]",
      "text/plain": [
       "<Figure size 432x288 with 1 Axes>"
      ]
     },
     "metadata": {
      "needs_background": "light"
     },
     "output_type": "display_data"
    }
   ],
   "source": [
    "plt.plot(train_accuracy, label='training Accuracy')\n",
    "plt.plot(val_accuracy, label='Validation Accuracy')\n",
    "plt.title('Accuracy at the end of each epoch')\n",
    "plt.legend();\n",
    "plt.savefig(f\"Accuracy_comparision_{optim}_lr_{learning_rate}_model_{mo}_no_COH.png\")"
   ]
  },
  {
   "cell_type": "markdown",
   "id": "661c3070-2845-417d-8b1c-c5016d649f53",
   "metadata": {},
   "source": [
    "### Standardize the Confusion Matrix and Display the Matrix ###"
   ]
  },
  {
   "cell_type": "code",
   "execution_count": 29,
   "id": "a550faca-4caa-4e6d-8653-a4f66257aede",
   "metadata": {},
   "outputs": [
    {
     "data": {
      "text/plain": [
       "array([[0.72      , 0.08695652, 0.10526316, 0.23529412, 0.        ,\n",
       "        0.        , 0.        ],\n",
       "       [0.        , 0.60869565, 0.        , 0.08823529, 0.        ,\n",
       "        0.03846154, 0.04      ],\n",
       "       [0.12      , 0.04347826, 0.84210526, 0.08823529, 0.03571429,\n",
       "        0.07692308, 0.08      ],\n",
       "       [0.08      , 0.26086957, 0.        , 0.35294118, 0.        ,\n",
       "        0.        , 0.16      ],\n",
       "       [0.        , 0.        , 0.        , 0.        , 0.96428571,\n",
       "        0.        , 0.        ],\n",
       "       [0.04      , 0.        , 0.        , 0.17647059, 0.        ,\n",
       "        0.76923077, 0.12      ],\n",
       "       [0.04      , 0.        , 0.05263158, 0.05882353, 0.        ,\n",
       "        0.11538462, 0.6       ]])"
      ]
     },
     "execution_count": 29,
     "metadata": {},
     "output_type": "execute_result"
    }
   ],
   "source": [
    "final_matrix = confusion_matrix / confusion_matrix.sum(axis = 0)\n",
    "final_matrix"
   ]
  },
  {
   "cell_type": "code",
   "execution_count": 30,
   "id": "509235a6-5fa1-4ffb-8061-5e4d3c1f668d",
   "metadata": {},
   "outputs": [
    {
     "name": "stderr",
     "output_type": "stream",
     "text": [
      "/tmp/ipykernel_1883/1896043099.py:7: UserWarning: FixedFormatter should only be used together with FixedLocator\n",
      "  ax.set_yticklabels(['']+target_cols)\n",
      "/tmp/ipykernel_1883/1896043099.py:8: UserWarning: FixedFormatter should only be used together with FixedLocator\n",
      "  ax.set_xticklabels(['']+target_cols, rotation=90)\n"
     ]
    },
    {
     "data": {
      "image/png": "[encoded data removed]",
      "text/plain": [
       "<Figure size 648x648 with 1 Axes>"
      ]
     },
     "metadata": {
      "needs_background": "light"
     },
     "output_type": "display_data"
    },
    {
     "data": {
      "text/plain": [
       "<Figure size 432x288 with 0 Axes>"
      ]
     },
     "metadata": {},
     "output_type": "display_data"
    }
   ],
   "source": [
    "## SHOW CONFUSION MATRIX\n",
    "\n",
    "target_cols = Y.columns.tolist()\n",
    "fig, ax = plt.subplots()\n",
    "fig.set_figheight(9)\n",
    "fig.set_figwidth(9)\n",
    "ax.set_yticklabels(['']+target_cols)\n",
    "ax.set_xticklabels(['']+target_cols, rotation=90)\n",
    "\n",
    "# Using matshow here just because it sets the ticks up nicely. imshow is faster.\n",
    "ax.matshow(final_matrix, cmap='YlOrRd')\n",
    "for (i, j), z in np.ndenumerate(final_matrix):\n",
    "    ax.text(j, i, '{:0.1f}'.format(z), ha='center', va='center')\n",
    "plt.show()\n",
    "plt.savefig(f\"Confusion_matrix_{optim}_lr_{learning_rate}_model_{mo}_no_COH.png\")"
   ]
  },
  {
   "cell_type": "markdown",
   "id": "20e15563-5fa1-4423-8578-a5d1c085eea4",
   "metadata": {
    "tags": []
   },
   "source": [
    "## TESTING ON TEST DATA ##"
   ]
  },
  {
   "cell_type": "code",
   "execution_count": 36,
   "id": "5ca475b3-4236-4a6a-a5e4-349cfd3d7d7d",
   "metadata": {},
   "outputs": [
    {
     "data": {
      "text/plain": [
       "(70, 115)"
      ]
     },
     "execution_count": 36,
     "metadata": {},
     "output_type": "execute_result"
    }
   ],
   "source": [
    "ttestt = pd.read_csv(\"final_dataset_all_no_coh_test.csv\")\n",
    "ttestt.shape"
   ]
  },
  {
   "cell_type": "code",
   "execution_count": 37,
   "id": "1006b765-1ce7-4521-9066-d11e6f5afdaf",
   "metadata": {},
   "outputs": [
    {
     "data": {
      "text/plain": [
       "(70,)"
      ]
     },
     "execution_count": 37,
     "metadata": {},
     "output_type": "execute_result"
    }
   ],
   "source": [
    "target = 'main.disorder'\n",
    "\n",
    "test_y = ttestt[target].copy()\n",
    "test_y.shape"
   ]
  },
  {
   "cell_type": "code",
   "execution_count": 38,
   "id": "d102e81a-49a7-4ce2-83d8-e6661be12add",
   "metadata": {},
   "outputs": [
    {
     "data": {
      "text/plain": [
       "(70, 7)"
      ]
     },
     "execution_count": 38,
     "metadata": {},
     "output_type": "execute_result"
    }
   ],
   "source": [
    "test_Y = pd.get_dummies(test_y)\n",
    "test_Y.shape"
   ]
  },
  {
   "cell_type": "code",
   "execution_count": 39,
   "id": "1085cfe3-b4f7-4793-bed2-0ea74634db29",
   "metadata": {},
   "outputs": [
    {
     "data": {
      "text/plain": [
       "(70, 114)"
      ]
     },
     "execution_count": 39,
     "metadata": {},
     "output_type": "execute_result"
    }
   ],
   "source": [
    "test_X = ttestt.drop([target], axis = 1)\n",
    "test_X.shape"
   ]
  },
  {
   "cell_type": "code",
   "execution_count": 40,
   "id": "d192cc70-1252-4448-85b1-0f04b66eba40",
   "metadata": {},
   "outputs": [
    {
     "name": "stdout",
     "output_type": "stream",
     "text": [
      "Number of testing samples:  70\n"
     ]
    }
   ],
   "source": [
    "datasets['ttestt'] = EEGDataset(test_X,test_Y)\n",
    "print(\"Number of testing samples: \",len(datasets['ttestt']))\n",
    "ttestt_loader = DataLoader(datasets['ttestt'],shuffle=True)"
   ]
  },
  {
   "cell_type": "code",
   "execution_count": null,
   "id": "5b74c708-81cb-4a5d-a765-3b223bdf0c3b",
   "metadata": {},
   "outputs": [],
   "source": [
    "model = CNNmodel().to(device)\n",
    "model.load_state_dict(torch.load('no_COH_epoch_47_model_Deep_ADAM.pth.tar'))"
   ]
  },
  {
   "cell_type": "code",
   "execution_count": 50,
   "id": "3b1af780-17cc-4ffd-903d-4993c5d04b5a",
   "metadata": {},
   "outputs": [],
   "source": [
    "test_accuracy = []\n",
    "test_confusion_matrix = np.zeros((7,7))\n",
    "test_correct = 0\n",
    "test_total = 0\n",
    "\n",
    "CNNmodel.eval()\n",
    "with torch.no_grad():\n",
    "    for b, (X_test, y_test) in enumerate(ttestt_loader):\n",
    "        y_test = y_test.to(device)\n",
    "        X_test = X_test.to(device)\n",
    "        yhat_test = CNNmodel(X_test)     \n",
    "        _, predicted = torch.max(yhat_test.data, 1)\n",
    "        test_total += y_test.size(0)  #keep track of total\n",
    "        actual = torch.argmax(y_test,1)\n",
    "        test_correct += (predicted == actual).sum().item()  #.item() give the raw number\n",
    "        test_confusion_matrix[predicted][actual] +=1\n",
    "        test_acc = 100 * (test_correct / test_total)\n",
    "        # test_loss = criterion(yhat_test, y_test)\n",
    "# test_losses.append(test_loss)\n",
    "test_accuracy.append(test_acc)"
   ]
  },
  {
   "cell_type": "code",
   "execution_count": 53,
   "id": "7ecbedb3-cbdb-4f02-972b-4d265e8407f3",
   "metadata": {},
   "outputs": [
    {
     "name": "stdout",
     "output_type": "stream",
     "text": [
      "Test_Dataset_Accuracy: 15.714285714285714\n"
     ]
    }
   ],
   "source": [
    "print(f\"Test_Dataset_Accuracy: {test_accuracy[0]}\")"
   ]
  },
  {
   "cell_type": "code",
   "execution_count": 54,
   "id": "2d6f763c-8d61-495a-b1a0-70983d54cf14",
   "metadata": {},
   "outputs": [
    {
     "data": {
      "text/plain": [
       "array([[0.1, 0.2, 0.2, 0. , 0.1, 0.1, 0.3],\n",
       "       [0. , 0. , 0. , 0. , 0. , 0. , 0. ],\n",
       "       [0. , 0. , 0. , 0. , 0. , 0. , 0. ],\n",
       "       [0.8, 0.6, 0.7, 0.7, 0.5, 0.6, 0.5],\n",
       "       [0. , 0. , 0. , 0. , 0. , 0. , 0. ],\n",
       "       [0.1, 0.2, 0.1, 0.3, 0.3, 0.3, 0.2],\n",
       "       [0. , 0. , 0. , 0. , 0.1, 0. , 0. ]])"
      ]
     },
     "execution_count": 54,
     "metadata": {},
     "output_type": "execute_result"
    }
   ],
   "source": [
    "test_final_matrix = test_confusion_matrix / test_confusion_matrix.sum(axis = 0)\n",
    "test_final_matrix"
   ]
  },
  {
   "cell_type": "code",
   "execution_count": 55,
   "id": "968ea7c2-bb03-45dc-8834-ab902f16f6af",
   "metadata": {},
   "outputs": [
    {
     "name": "stderr",
     "output_type": "stream",
     "text": [
      "/tmp/ipykernel_1883/2827707624.py:7: UserWarning: FixedFormatter should only be used together with FixedLocator\n",
      "  ax.set_yticklabels(['']+target_cols)\n",
      "/tmp/ipykernel_1883/2827707624.py:8: UserWarning: FixedFormatter should only be used together with FixedLocator\n",
      "  ax.set_xticklabels(['']+target_cols, rotation=90)\n"
     ]
    },
    {
     "data": {
      "image/png": "[encoded data removed]",
      "text/plain": [
       "<Figure size 648x648 with 1 Axes>"
      ]
     },
     "metadata": {
      "needs_background": "light"
     },
     "output_type": "display_data"
    },
    {
     "data": {
      "text/plain": [
       "<Figure size 432x288 with 0 Axes>"
      ]
     },
     "metadata": {},
     "output_type": "display_data"
    }
   ],
   "source": [
    "## SHOW CONFUSION MATRIX\n",
    "\n",
    "target_cols = Y.columns.tolist()\n",
    "fig, ax = plt.subplots()\n",
    "fig.set_figheight(9)\n",
    "fig.set_figwidth(9)\n",
    "ax.set_yticklabels(['']+target_cols)\n",
    "ax.set_xticklabels(['']+target_cols, rotation=90)\n",
    "\n",
    "# Using matshow here just because it sets the ticks up nicely. imshow is faster.\n",
    "ax.matshow(test_final_matrix, cmap='YlOrRd')\n",
    "for (i, j), z in np.ndenumerate(test_final_matrix):\n",
    "    ax.text(j, i, '{:0.1f}'.format(z), ha='center', va='center')\n",
    "plt.show()\n",
    "plt.savefig(f\"Test_Confusion_matrix_{optim}_lr_{learning_rate}_model_{mo}.png\")"
   ]
  },
  {
   "cell_type": "markdown",
   "id": "34657458-ad18-41d4-96e8-7112093c6ee8",
   "metadata": {},
   "source": [
    "## ACCURACY METRICS ##"
   ]
  },
  {
   "cell_type": "markdown",
   "id": "b29ebb3f-f24e-472d-bc87-b781f85a95ad",
   "metadata": {},
   "source": [
    "$$Accuracy = \\frac{TP+TN}{TP+TN+FP+FN}$$\n",
    "$$Precision = \\frac{TP}{TP+FP}$$\n",
    "$$Recall = \\frac{TP}{TP+FN}$$\n",
    "$$F1 = \\frac{2*Precision*Recall}{Precision+Recall} = \\frac{2*TP}{2*TP+FP+FN}$$"
   ]
  },
  {
   "cell_type": "code",
   "execution_count": 5,
   "id": "dedef3d2-a678-47c7-a4a6-ab584b98bb77",
   "metadata": {},
   "outputs": [
    {
     "name": "stderr",
     "output_type": "stream",
     "text": [
      "/tmp/ipykernel_331/3789938909.py:4: RuntimeWarning: invalid value encountered in true_divide\n",
      "  recall = diag_x / test_final_matrix.sum(axis=1)\n"
     ]
    }
   ],
   "source": [
    "diag_x = np.diag(test_final_matrix)\n",
    "# print(diag_x)\n",
    "precison = diag_x / test_final_matrix.sum(axis=0)\n",
    "recall = diag_x / test_final_matrix.sum(axis=1)"
   ]
  },
  {
   "cell_type": "code",
   "execution_count": 6,
   "id": "78fce97a-9d59-4041-a8c2-d50a89b9035c",
   "metadata": {},
   "outputs": [
    {
     "name": "stderr",
     "output_type": "stream",
     "text": [
      "/tmp/ipykernel_331/680311890.py:1: RuntimeWarning: invalid value encountered in true_divide\n",
      "  F1 = 2*precison*recall/(precison+recall)\n"
     ]
    }
   ],
   "source": [
    "F1 = 2*precison*recall/(precison+recall)\n",
    "F1 = F1.tolist()\n",
    "precison = precison.tolist()\n",
    "recall = recall.tolist()"
   ]
  },
  {
   "cell_type": "code",
   "execution_count": 12,
   "id": "7afd1563-5783-49ba-ad65-2706ae425857",
   "metadata": {},
   "outputs": [],
   "source": [
    "metrics = pd.DataFrame([precison, recall,F1],columns=target_cols,index=['precison', 'recall','F1'])"
   ]
  },
  {
   "cell_type": "code",
   "execution_count": 13,
   "id": "48534268-a88e-46ce-9ec0-704859306c00",
   "metadata": {},
   "outputs": [
    {
     "data": {
      "text/html": [
       "<div>\n",
       "<style scoped>\n",
       "    .dataframe tbody tr th:only-of-type {\n",
       "        vertical-align: middle;\n",
       "    }\n",
       "\n",
       "    .dataframe tbody tr th {\n",
       "        vertical-align: top;\n",
       "    }\n",
       "\n",
       "    .dataframe thead th {\n",
       "        text-align: right;\n",
       "    }\n",
       "</style>\n",
       "<table border=\"1\" class=\"dataframe\">\n",
       "  <thead>\n",
       "    <tr style=\"text-align: right;\">\n",
       "      <th></th>\n",
       "      <th>Addictive disorder</th>\n",
       "      <th>Anxiety disorder</th>\n",
       "      <th>Healthy control</th>\n",
       "      <th>Mood disorder</th>\n",
       "      <th>Obsessive compulsive disorder</th>\n",
       "      <th>Schizophrenia</th>\n",
       "      <th>Trauma and stress related disorder</th>\n",
       "    </tr>\n",
       "  </thead>\n",
       "  <tbody>\n",
       "    <tr>\n",
       "      <th>precison</th>\n",
       "      <td>0.1</td>\n",
       "      <td>0.0</td>\n",
       "      <td>0.0</td>\n",
       "      <td>0.700000</td>\n",
       "      <td>0.0</td>\n",
       "      <td>0.30</td>\n",
       "      <td>0.0</td>\n",
       "    </tr>\n",
       "    <tr>\n",
       "      <th>recall</th>\n",
       "      <td>0.1</td>\n",
       "      <td>NaN</td>\n",
       "      <td>NaN</td>\n",
       "      <td>0.159091</td>\n",
       "      <td>NaN</td>\n",
       "      <td>0.20</td>\n",
       "      <td>0.0</td>\n",
       "    </tr>\n",
       "    <tr>\n",
       "      <th>F1</th>\n",
       "      <td>0.1</td>\n",
       "      <td>NaN</td>\n",
       "      <td>NaN</td>\n",
       "      <td>0.259259</td>\n",
       "      <td>NaN</td>\n",
       "      <td>0.24</td>\n",
       "      <td>NaN</td>\n",
       "    </tr>\n",
       "  </tbody>\n",
       "</table>\n",
       "</div>"
      ],
      "text/plain": [
       "          Addictive disorder  Anxiety disorder  Healthy control  \\\n",
       "precison                 0.1               0.0              0.0   \n",
       "recall                   0.1               NaN              NaN   \n",
       "F1                       0.1               NaN              NaN   \n",
       "\n",
       "          Mood disorder  Obsessive compulsive disorder  Schizophrenia  \\\n",
       "precison       0.700000                            0.0           0.30   \n",
       "recall         0.159091                            NaN           0.20   \n",
       "F1             0.259259                            NaN           0.24   \n",
       "\n",
       "          Trauma and stress related disorder  \n",
       "precison                                 0.0  \n",
       "recall                                   0.0  \n",
       "F1                                       NaN  "
      ]
     },
     "execution_count": 13,
     "metadata": {},
     "output_type": "execute_result"
    }
   ],
   "source": [
    "metrics"
   ]
  }
 ],
 "metadata": {
  "kernelspec": {
   "display_name": "Python 3 (ipykernel)",
   "language": "python",
   "name": "python3"
  },
  "language_info": {
   "codemirror_mode": {
    "name": "ipython",
    "version": 3
   },
   "file_extension": ".py",
   "mimetype": "text/x-python",
   "name": "python",
   "nbconvert_exporter": "python",
   "pygments_lexer": "ipython3",
   "version": "3.9.7"
  }
 },
 "nbformat": 4,
 "nbformat_minor": 5
}
